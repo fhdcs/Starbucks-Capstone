{
 "cells": [
  {
   "cell_type": "markdown",
   "metadata": {},
   "source": [
    "# Starbucks Capstone Challenge\n",
    "\n",
    "### Introduction\n",
    "\n",
    "This data set contains simulated data that mimics customer behavior on the Starbucks rewards mobile app. Once every few days, Starbucks sends out an offer to users of the mobile app. An offer can be merely an advertisement for a drink or an actual offer such as a discount or BOGO (buy one get one free). Some users might not receive any offer during certain weeks. \n",
    "\n",
    "Not all users receive the same offer, and that is the challenge to solve with this data set.\n",
    "\n",
    "Your task is to combine transaction, demographic and offer data to determine which demographic groups respond best to which offer type. This data set is a simplified version of the real Starbucks app because the underlying simulator only has one product whereas Starbucks actually sells dozens of products.\n",
    "\n",
    "Every offer has a validity period before the offer expires. As an example, a BOGO offer might be valid for only 5 days. You'll see in the data set that informational offers have a validity period even though these ads are merely providing information about a product; for example, if an informational offer has 7 days of validity, you can assume the customer is feeling the influence of the offer for 7 days after receiving the advertisement.\n",
    "\n",
    "You'll be given transactional data showing user purchases made on the app including the timestamp of purchase and the amount of money spent on a purchase. This transactional data also has a record for each offer that a user receives as well as a record for when a user actually views the offer. There are also records for when a user completes an offer. \n",
    "\n",
    "Keep in mind as well that someone using the app might make a purchase through the app without having received an offer or seen an offer.\n",
    "\n",
    "### Example\n",
    "\n",
    "To give an example, a user could receive a discount offer buy 10 dollars get 2 off on Monday. The offer is valid for 10 days from receipt. If the customer accumulates at least 10 dollars in purchases during the validity period, the customer completes the offer.\n",
    "\n",
    "However, there are a few things to watch out for in this data set. Customers do not opt into the offers that they receive; in other words, a user can receive an offer, never actually view the offer, and still complete the offer. For example, a user might receive the \"buy 10 dollars get 2 dollars off offer\", but the user never opens the offer during the 10 day validity period. The customer spends 15 dollars during those ten days. There will be an offer completion record in the data set; however, the customer was not influenced by the offer because the customer never viewed the offer.\n",
    "\n",
    "### Cleaning\n",
    "\n",
    "This makes data cleaning especially important and tricky.\n",
    "\n",
    "You'll also want to take into account that some demographic groups will make purchases even if they don't receive an offer. From a business perspective, if a customer is going to make a 10 dollar purchase without an offer anyway, you wouldn't want to send a buy 10 dollars get 2 dollars off offer. You'll want to try to assess what a certain demographic group will buy when not receiving any offers.\n",
    "\n",
    "### Final Advice\n",
    "\n",
    "Because this is a capstone project, you are free to analyze the data any way you see fit. For example, you could build a machine learning model that predicts how much someone will spend based on demographics and offer type. Or you could build a model that predicts whether or not someone will respond to an offer. Or, you don't need to build a machine learning model at all. You could develop a set of heuristics that determine what offer you should send to each customer (i.e., 75 percent of women customers who were 35 years old responded to offer A vs 40 percent from the same demographic to offer B, so send offer A)."
   ]
  },
  {
   "cell_type": "markdown",
   "metadata": {},
   "source": [
    "# Data Sets\n",
    "\n",
    "The data is contained in three files:\n",
    "\n",
    "* portfolio.json - containing offer ids and meta data about each offer (duration, type, etc.)\n",
    "* profile.json - demographic data for each customer\n",
    "* transcript.json - records for transactions, offers received, offers viewed, and offers completed\n",
    "\n",
    "Here is the schema and explanation of each variable in the files:\n",
    "\n",
    "**portfolio.json**\n",
    "* id (string) - offer id\n",
    "* offer_type (string) - type of offer ie BOGO, discount, informational\n",
    "* difficulty (int) - minimum required spend to complete an offer\n",
    "* reward (int) - reward given for completing an offer\n",
    "* duration (int) - time for offer to be open, in days\n",
    "* channels (list of strings)\n",
    "\n",
    "**profile.json**\n",
    "* age (int) - age of the customer \n",
    "* became_member_on (int) - date when customer created an app account\n",
    "* gender (str) - gender of the customer (note some entries contain 'O' for other rather than M or F)\n",
    "* id (str) - customer id\n",
    "* income (float) - customer's income\n",
    "\n",
    "**transcript.json**\n",
    "* event (str) - record description (ie transaction, offer received, offer viewed, etc.)\n",
    "* person (str) - customer id\n",
    "* time (int) - time in hours since start of test. The data begins at time t=0\n",
    "* value - (dict of strings) - either an offer id or transaction amount depending on the record\n",
    "\n",
    "**Note:** If you are using the workspace, you will need to go to the terminal and run the command `conda update pandas` before reading in the files. This is because the version of pandas in the workspace cannot read in the transcript.json file correctly, but the newest version of pandas can. You can access the termnal from the orange icon in the top left of this notebook.  \n",
    "\n",
    "You can see how to access the terminal and how the install works using the two images below.  First you need to access the terminal:\n",
    "\n",
    "<img src=\"pic1.png\"/>\n",
    "\n",
    "Then you will want to run the above command:\n",
    "\n",
    "<img src=\"pic2.png\"/>\n",
    "\n",
    "Finally, when you enter back into the notebook (use the jupyter icon again), you should be able to run the below cell without any errors."
   ]
  },
  {
   "cell_type": "code",
   "execution_count": 1,
   "metadata": {},
   "outputs": [
    {
     "name": "stderr",
     "output_type": "stream",
     "text": [
      "/opt/conda/lib/python3.6/site-packages/sklearn/cross_validation.py:41: DeprecationWarning: This module was deprecated in version 0.18 in favor of the model_selection module into which all the refactored classes and functions are moved. Also note that the interface of the new CV iterators are different from that of this module. This module will be removed in 0.20.\n",
      "  \"This module will be removed in 0.20.\", DeprecationWarning)\n"
     ]
    }
   ],
   "source": [
    "import pandas as pd\n",
    "import numpy as np\n",
    "import math\n",
    "import json\n",
    "% matplotlib inline\n",
    "from sklearn.model_selection import train_test_split,GridSearchCV\n",
    "from sklearn.tree import DecisionTreeClassifier\n",
    "from sklearn.ensemble import RandomForestClassifier\n",
    "from sklearn.ensemble import AdaBoostClassifier\n",
    "from sklearn.metrics import accuracy_score,f1_score\n",
    "from sklearn.linear_model import LogisticRegression,LinearRegression,Ridge,Lasso,SGDClassifier\n",
    "from sklearn.neighbors import KNeighborsClassifier\n",
    "from sklearn.metrics import precision_score\n",
    "from sklearn.metrics import recall_score\n",
    "from sklearn.naive_bayes import GaussianNB\n",
    "from sklearn.metrics import classification_report\n",
    "from sklearn.pipeline import make_pipeline\n",
    "from sklearn.model_selection import GridSearchCV\n",
    "from sklearn import preprocessing,cross_validation\n",
    "from sklearn.ensemble import RandomForestRegressor\n",
    "from sklearn.pipeline import make_pipeline\n",
    "from sklearn.metrics import mean_squared_error, r2_score\n",
    "import seaborn as sb\n",
    "import matplotlib.pyplot as plt\n",
    "# read in the json files\n",
    "portfolio = pd.read_json('data/portfolio.json', orient='records', lines=True)\n",
    "profile = pd.read_json('data/profile.json', orient='records', lines=True)\n",
    "transcript = pd.read_json('data/transcript.json', orient='records', lines=True)"
   ]
  },
  {
   "cell_type": "markdown",
   "metadata": {},
   "source": [
    "## 1) Data Exploration"
   ]
  },
  {
   "cell_type": "code",
   "execution_count": 2,
   "metadata": {},
   "outputs": [
    {
     "data": {
      "text/plain": [
       "(10, 6)"
      ]
     },
     "execution_count": 2,
     "metadata": {},
     "output_type": "execute_result"
    }
   ],
   "source": [
    "portfolio.shape"
   ]
  },
  {
   "cell_type": "code",
   "execution_count": 3,
   "metadata": {},
   "outputs": [
    {
     "data": {
      "text/html": [
       "<div>\n",
       "<style scoped>\n",
       "    .dataframe tbody tr th:only-of-type {\n",
       "        vertical-align: middle;\n",
       "    }\n",
       "\n",
       "    .dataframe tbody tr th {\n",
       "        vertical-align: top;\n",
       "    }\n",
       "\n",
       "    .dataframe thead th {\n",
       "        text-align: right;\n",
       "    }\n",
       "</style>\n",
       "<table border=\"1\" class=\"dataframe\">\n",
       "  <thead>\n",
       "    <tr style=\"text-align: right;\">\n",
       "      <th></th>\n",
       "      <th>channels</th>\n",
       "      <th>difficulty</th>\n",
       "      <th>duration</th>\n",
       "      <th>id</th>\n",
       "      <th>offer_type</th>\n",
       "      <th>reward</th>\n",
       "    </tr>\n",
       "  </thead>\n",
       "  <tbody>\n",
       "    <tr>\n",
       "      <th>0</th>\n",
       "      <td>[email, mobile, social]</td>\n",
       "      <td>10</td>\n",
       "      <td>7</td>\n",
       "      <td>ae264e3637204a6fb9bb56bc8210ddfd</td>\n",
       "      <td>bogo</td>\n",
       "      <td>10</td>\n",
       "    </tr>\n",
       "    <tr>\n",
       "      <th>1</th>\n",
       "      <td>[web, email, mobile, social]</td>\n",
       "      <td>10</td>\n",
       "      <td>5</td>\n",
       "      <td>4d5c57ea9a6940dd891ad53e9dbe8da0</td>\n",
       "      <td>bogo</td>\n",
       "      <td>10</td>\n",
       "    </tr>\n",
       "    <tr>\n",
       "      <th>2</th>\n",
       "      <td>[web, email, mobile]</td>\n",
       "      <td>0</td>\n",
       "      <td>4</td>\n",
       "      <td>3f207df678b143eea3cee63160fa8bed</td>\n",
       "      <td>informational</td>\n",
       "      <td>0</td>\n",
       "    </tr>\n",
       "    <tr>\n",
       "      <th>3</th>\n",
       "      <td>[web, email, mobile]</td>\n",
       "      <td>5</td>\n",
       "      <td>7</td>\n",
       "      <td>9b98b8c7a33c4b65b9aebfe6a799e6d9</td>\n",
       "      <td>bogo</td>\n",
       "      <td>5</td>\n",
       "    </tr>\n",
       "    <tr>\n",
       "      <th>4</th>\n",
       "      <td>[web, email]</td>\n",
       "      <td>20</td>\n",
       "      <td>10</td>\n",
       "      <td>0b1e1539f2cc45b7b9fa7c272da2e1d7</td>\n",
       "      <td>discount</td>\n",
       "      <td>5</td>\n",
       "    </tr>\n",
       "  </tbody>\n",
       "</table>\n",
       "</div>"
      ],
      "text/plain": [
       "                       channels  difficulty  duration  \\\n",
       "0       [email, mobile, social]          10         7   \n",
       "1  [web, email, mobile, social]          10         5   \n",
       "2          [web, email, mobile]           0         4   \n",
       "3          [web, email, mobile]           5         7   \n",
       "4                  [web, email]          20        10   \n",
       "\n",
       "                                 id     offer_type  reward  \n",
       "0  ae264e3637204a6fb9bb56bc8210ddfd           bogo      10  \n",
       "1  4d5c57ea9a6940dd891ad53e9dbe8da0           bogo      10  \n",
       "2  3f207df678b143eea3cee63160fa8bed  informational       0  \n",
       "3  9b98b8c7a33c4b65b9aebfe6a799e6d9           bogo       5  \n",
       "4  0b1e1539f2cc45b7b9fa7c272da2e1d7       discount       5  "
      ]
     },
     "execution_count": 3,
     "metadata": {},
     "output_type": "execute_result"
    }
   ],
   "source": [
    "portfolio.head()"
   ]
  },
  {
   "cell_type": "code",
   "execution_count": 4,
   "metadata": {},
   "outputs": [
    {
     "data": {
      "text/html": [
       "<div>\n",
       "<style scoped>\n",
       "    .dataframe tbody tr th:only-of-type {\n",
       "        vertical-align: middle;\n",
       "    }\n",
       "\n",
       "    .dataframe tbody tr th {\n",
       "        vertical-align: top;\n",
       "    }\n",
       "\n",
       "    .dataframe thead th {\n",
       "        text-align: right;\n",
       "    }\n",
       "</style>\n",
       "<table border=\"1\" class=\"dataframe\">\n",
       "  <thead>\n",
       "    <tr style=\"text-align: right;\">\n",
       "      <th></th>\n",
       "      <th>age</th>\n",
       "      <th>became_member_on</th>\n",
       "      <th>gender</th>\n",
       "      <th>id</th>\n",
       "      <th>income</th>\n",
       "    </tr>\n",
       "  </thead>\n",
       "  <tbody>\n",
       "    <tr>\n",
       "      <th>0</th>\n",
       "      <td>118</td>\n",
       "      <td>20170212</td>\n",
       "      <td>None</td>\n",
       "      <td>68be06ca386d4c31939f3a4f0e3dd783</td>\n",
       "      <td>NaN</td>\n",
       "    </tr>\n",
       "    <tr>\n",
       "      <th>1</th>\n",
       "      <td>55</td>\n",
       "      <td>20170715</td>\n",
       "      <td>F</td>\n",
       "      <td>0610b486422d4921ae7d2bf64640c50b</td>\n",
       "      <td>112000.0</td>\n",
       "    </tr>\n",
       "    <tr>\n",
       "      <th>2</th>\n",
       "      <td>118</td>\n",
       "      <td>20180712</td>\n",
       "      <td>None</td>\n",
       "      <td>38fe809add3b4fcf9315a9694bb96ff5</td>\n",
       "      <td>NaN</td>\n",
       "    </tr>\n",
       "    <tr>\n",
       "      <th>3</th>\n",
       "      <td>75</td>\n",
       "      <td>20170509</td>\n",
       "      <td>F</td>\n",
       "      <td>78afa995795e4d85b5d9ceeca43f5fef</td>\n",
       "      <td>100000.0</td>\n",
       "    </tr>\n",
       "    <tr>\n",
       "      <th>4</th>\n",
       "      <td>118</td>\n",
       "      <td>20170804</td>\n",
       "      <td>None</td>\n",
       "      <td>a03223e636434f42ac4c3df47e8bac43</td>\n",
       "      <td>NaN</td>\n",
       "    </tr>\n",
       "  </tbody>\n",
       "</table>\n",
       "</div>"
      ],
      "text/plain": [
       "   age  became_member_on gender                                id    income\n",
       "0  118          20170212   None  68be06ca386d4c31939f3a4f0e3dd783       NaN\n",
       "1   55          20170715      F  0610b486422d4921ae7d2bf64640c50b  112000.0\n",
       "2  118          20180712   None  38fe809add3b4fcf9315a9694bb96ff5       NaN\n",
       "3   75          20170509      F  78afa995795e4d85b5d9ceeca43f5fef  100000.0\n",
       "4  118          20170804   None  a03223e636434f42ac4c3df47e8bac43       NaN"
      ]
     },
     "execution_count": 4,
     "metadata": {},
     "output_type": "execute_result"
    }
   ],
   "source": [
    "profile.head()"
   ]
  },
  {
   "cell_type": "code",
   "execution_count": 5,
   "metadata": {},
   "outputs": [
    {
     "data": {
      "text/plain": [
       "(17000, 5)"
      ]
     },
     "execution_count": 5,
     "metadata": {},
     "output_type": "execute_result"
    }
   ],
   "source": [
    "profile.shape"
   ]
  },
  {
   "cell_type": "code",
   "execution_count": 6,
   "metadata": {},
   "outputs": [
    {
     "data": {
      "image/png": "[encoded data removed]",
      "text/plain": [
       "<matplotlib.figure.Figure at 0x7f0e33b294e0>"
      ]
     },
     "metadata": {
      "needs_background": "light"
     },
     "output_type": "display_data"
    }
   ],
   "source": [
    "plt.figure(figsize=[18, 5])\n",
    "ax = sb.countplot(data = profile, x ='age',color = sb.color_palette()[0])\n",
    "plt.xlabel('Age Distribution');\n",
    "#plt.xticks([10,20,30,40,50,60,70,80,90,100,110,120]);\n",
    "#plt.show()"
   ]
  },
  {
   "cell_type": "code",
   "execution_count": 7,
   "metadata": {},
   "outputs": [
    {
     "data": {
      "text/html": [
       "<div>\n",
       "<style scoped>\n",
       "    .dataframe tbody tr th:only-of-type {\n",
       "        vertical-align: middle;\n",
       "    }\n",
       "\n",
       "    .dataframe tbody tr th {\n",
       "        vertical-align: top;\n",
       "    }\n",
       "\n",
       "    .dataframe thead th {\n",
       "        text-align: right;\n",
       "    }\n",
       "</style>\n",
       "<table border=\"1\" class=\"dataframe\">\n",
       "  <thead>\n",
       "    <tr style=\"text-align: right;\">\n",
       "      <th></th>\n",
       "      <th>event</th>\n",
       "      <th>person</th>\n",
       "      <th>time</th>\n",
       "      <th>value</th>\n",
       "    </tr>\n",
       "  </thead>\n",
       "  <tbody>\n",
       "    <tr>\n",
       "      <th>0</th>\n",
       "      <td>offer received</td>\n",
       "      <td>78afa995795e4d85b5d9ceeca43f5fef</td>\n",
       "      <td>0</td>\n",
       "      <td>{'offer id': '9b98b8c7a33c4b65b9aebfe6a799e6d9'}</td>\n",
       "    </tr>\n",
       "    <tr>\n",
       "      <th>1</th>\n",
       "      <td>offer received</td>\n",
       "      <td>a03223e636434f42ac4c3df47e8bac43</td>\n",
       "      <td>0</td>\n",
       "      <td>{'offer id': '0b1e1539f2cc45b7b9fa7c272da2e1d7'}</td>\n",
       "    </tr>\n",
       "    <tr>\n",
       "      <th>2</th>\n",
       "      <td>offer received</td>\n",
       "      <td>e2127556f4f64592b11af22de27a7932</td>\n",
       "      <td>0</td>\n",
       "      <td>{'offer id': '2906b810c7d4411798c6938adc9daaa5'}</td>\n",
       "    </tr>\n",
       "    <tr>\n",
       "      <th>3</th>\n",
       "      <td>offer received</td>\n",
       "      <td>8ec6ce2a7e7949b1bf142def7d0e0586</td>\n",
       "      <td>0</td>\n",
       "      <td>{'offer id': 'fafdcd668e3743c1bb461111dcafc2a4'}</td>\n",
       "    </tr>\n",
       "    <tr>\n",
       "      <th>4</th>\n",
       "      <td>offer received</td>\n",
       "      <td>68617ca6246f4fbc85e91a2a49552598</td>\n",
       "      <td>0</td>\n",
       "      <td>{'offer id': '4d5c57ea9a6940dd891ad53e9dbe8da0'}</td>\n",
       "    </tr>\n",
       "  </tbody>\n",
       "</table>\n",
       "</div>"
      ],
      "text/plain": [
       "            event                            person  time  \\\n",
       "0  offer received  78afa995795e4d85b5d9ceeca43f5fef     0   \n",
       "1  offer received  a03223e636434f42ac4c3df47e8bac43     0   \n",
       "2  offer received  e2127556f4f64592b11af22de27a7932     0   \n",
       "3  offer received  8ec6ce2a7e7949b1bf142def7d0e0586     0   \n",
       "4  offer received  68617ca6246f4fbc85e91a2a49552598     0   \n",
       "\n",
       "                                              value  \n",
       "0  {'offer id': '9b98b8c7a33c4b65b9aebfe6a799e6d9'}  \n",
       "1  {'offer id': '0b1e1539f2cc45b7b9fa7c272da2e1d7'}  \n",
       "2  {'offer id': '2906b810c7d4411798c6938adc9daaa5'}  \n",
       "3  {'offer id': 'fafdcd668e3743c1bb461111dcafc2a4'}  \n",
       "4  {'offer id': '4d5c57ea9a6940dd891ad53e9dbe8da0'}  "
      ]
     },
     "execution_count": 7,
     "metadata": {},
     "output_type": "execute_result"
    }
   ],
   "source": [
    "transcript.head()"
   ]
  },
  {
   "cell_type": "code",
   "execution_count": 8,
   "metadata": {},
   "outputs": [
    {
     "data": {
      "text/plain": [
       "transaction        138953\n",
       "offer received      76277\n",
       "offer viewed        57725\n",
       "offer completed     33579\n",
       "Name: event, dtype: int64"
      ]
     },
     "execution_count": 8,
     "metadata": {},
     "output_type": "execute_result"
    }
   ],
   "source": [
    "transcript.event.value_counts()"
   ]
  },
  {
   "cell_type": "code",
   "execution_count": 9,
   "metadata": {},
   "outputs": [
    {
     "data": {
      "text/plain": [
       "(10, 6)"
      ]
     },
     "execution_count": 9,
     "metadata": {},
     "output_type": "execute_result"
    }
   ],
   "source": [
    "portfolio.shape"
   ]
  },
  {
   "cell_type": "markdown",
   "metadata": {},
   "source": [
    "## 2) Data Wrangling"
   ]
  },
  {
   "cell_type": "code",
   "execution_count": 10,
   "metadata": {},
   "outputs": [],
   "source": [
    "def clean_portfolio(portfolio):\n",
    "    '''\n",
    "    INPUT:\n",
    "    portfolio - original dataframe read from portfolio json file\n",
    "    \n",
    "    OUTPUT:\n",
    "    df        - cleaned and extended portfolio dataframe \n",
    "    \n",
    "    Description:\n",
    "    this function gets the portfolio dataframe and add extra fields to it based on the channel\n",
    "    and offer_type columns, for each type a new columns would be created and re-order the columns\n",
    "    \n",
    "    '''\n",
    "    \n",
    "    df = portfolio.copy()\n",
    "    #df['web'] = df['channels'].apply(lambda x:1 if 'web' in df['channels'] else 0)\n",
    "    #df['email'] = df['channels'].apply(lambda x:1 if 'email' in df['channels'] else 0)\n",
    "    #df['mobile'] = df['channels'].apply(lambda x:1 if 'mobile' in df['channels'] else 0)\n",
    "    #df['social'] = df['channels'].apply(lambda x:1 if 'social' in df['channels'] else 0)\n",
    "    dropped_cols = ['channels','offer_type']\n",
    "    channels = set()\n",
    "    #loop through the rows\n",
    "    for index,row in df.iterrows():\n",
    "        #get the channels from the row\n",
    "        row_channels = str(row[0]).strip()\n",
    "        #remove the [ and ] from the row_channels\n",
    "        row_channels = row_channels[1:-1]\n",
    "        #remove the ' from row_channels\n",
    "        row_channels = row_channels.replace(\"'\",'').strip()\n",
    "        #split the channels per channel and save in split_columns\n",
    "        split_columns = row_channels.split(\",\")\n",
    "        #loop through channels in the split_columns \n",
    "        for channel in split_columns:\n",
    "            channel = channel.strip()\n",
    "            #since the channel is availabe in the row, make the corresponding columsn for it as 1\n",
    "            df.loc[index,channel] = 1\n",
    "            #update the channel to the channels list to fillna later\n",
    "            channels.update([channel])\n",
    "    \n",
    "    for channel in channels:\n",
    "        df[channel].fillna(0,inplace=True)\n",
    "        \n",
    "    cols = df.columns.tolist()\n",
    "    #re-order the dataframe columns by bringing id in the begining\n",
    "    cols = cols[-7:-6] + cols[:-7] + cols[-6:]\n",
    "    df = df[cols]\n",
    "    #use get dummies to create the new columns and entries for offer_type column and concatenate it with df\n",
    "    df = pd.concat([df, pd.get_dummies(df['offer_type'])], axis=1)\n",
    "    #drop the not needed columns\n",
    "    df = df.drop(dropped_cols,axis=1)\n",
    "    return df"
   ]
  },
  {
   "cell_type": "code",
   "execution_count": 11,
   "metadata": {},
   "outputs": [
    {
     "data": {
      "text/html": [
       "<div>\n",
       "<style scoped>\n",
       "    .dataframe tbody tr th:only-of-type {\n",
       "        vertical-align: middle;\n",
       "    }\n",
       "\n",
       "    .dataframe tbody tr th {\n",
       "        vertical-align: top;\n",
       "    }\n",
       "\n",
       "    .dataframe thead th {\n",
       "        text-align: right;\n",
       "    }\n",
       "</style>\n",
       "<table border=\"1\" class=\"dataframe\">\n",
       "  <thead>\n",
       "    <tr style=\"text-align: right;\">\n",
       "      <th></th>\n",
       "      <th>id</th>\n",
       "      <th>difficulty</th>\n",
       "      <th>duration</th>\n",
       "      <th>reward</th>\n",
       "      <th>email</th>\n",
       "      <th>mobile</th>\n",
       "      <th>social</th>\n",
       "      <th>web</th>\n",
       "      <th>bogo</th>\n",
       "      <th>discount</th>\n",
       "      <th>informational</th>\n",
       "    </tr>\n",
       "  </thead>\n",
       "  <tbody>\n",
       "    <tr>\n",
       "      <th>0</th>\n",
       "      <td>ae264e3637204a6fb9bb56bc8210ddfd</td>\n",
       "      <td>10</td>\n",
       "      <td>7</td>\n",
       "      <td>10</td>\n",
       "      <td>1.0</td>\n",
       "      <td>1.0</td>\n",
       "      <td>1.0</td>\n",
       "      <td>0.0</td>\n",
       "      <td>1</td>\n",
       "      <td>0</td>\n",
       "      <td>0</td>\n",
       "    </tr>\n",
       "    <tr>\n",
       "      <th>1</th>\n",
       "      <td>4d5c57ea9a6940dd891ad53e9dbe8da0</td>\n",
       "      <td>10</td>\n",
       "      <td>5</td>\n",
       "      <td>10</td>\n",
       "      <td>1.0</td>\n",
       "      <td>1.0</td>\n",
       "      <td>1.0</td>\n",
       "      <td>1.0</td>\n",
       "      <td>1</td>\n",
       "      <td>0</td>\n",
       "      <td>0</td>\n",
       "    </tr>\n",
       "    <tr>\n",
       "      <th>2</th>\n",
       "      <td>3f207df678b143eea3cee63160fa8bed</td>\n",
       "      <td>0</td>\n",
       "      <td>4</td>\n",
       "      <td>0</td>\n",
       "      <td>1.0</td>\n",
       "      <td>1.0</td>\n",
       "      <td>0.0</td>\n",
       "      <td>1.0</td>\n",
       "      <td>0</td>\n",
       "      <td>0</td>\n",
       "      <td>1</td>\n",
       "    </tr>\n",
       "    <tr>\n",
       "      <th>3</th>\n",
       "      <td>9b98b8c7a33c4b65b9aebfe6a799e6d9</td>\n",
       "      <td>5</td>\n",
       "      <td>7</td>\n",
       "      <td>5</td>\n",
       "      <td>1.0</td>\n",
       "      <td>1.0</td>\n",
       "      <td>0.0</td>\n",
       "      <td>1.0</td>\n",
       "      <td>1</td>\n",
       "      <td>0</td>\n",
       "      <td>0</td>\n",
       "    </tr>\n",
       "    <tr>\n",
       "      <th>4</th>\n",
       "      <td>0b1e1539f2cc45b7b9fa7c272da2e1d7</td>\n",
       "      <td>20</td>\n",
       "      <td>10</td>\n",
       "      <td>5</td>\n",
       "      <td>1.0</td>\n",
       "      <td>0.0</td>\n",
       "      <td>0.0</td>\n",
       "      <td>1.0</td>\n",
       "      <td>0</td>\n",
       "      <td>1</td>\n",
       "      <td>0</td>\n",
       "    </tr>\n",
       "    <tr>\n",
       "      <th>5</th>\n",
       "      <td>2298d6c36e964ae4a3e7e9706d1fb8c2</td>\n",
       "      <td>7</td>\n",
       "      <td>7</td>\n",
       "      <td>3</td>\n",
       "      <td>1.0</td>\n",
       "      <td>1.0</td>\n",
       "      <td>1.0</td>\n",
       "      <td>1.0</td>\n",
       "      <td>0</td>\n",
       "      <td>1</td>\n",
       "      <td>0</td>\n",
       "    </tr>\n",
       "    <tr>\n",
       "      <th>6</th>\n",
       "      <td>fafdcd668e3743c1bb461111dcafc2a4</td>\n",
       "      <td>10</td>\n",
       "      <td>10</td>\n",
       "      <td>2</td>\n",
       "      <td>1.0</td>\n",
       "      <td>1.0</td>\n",
       "      <td>1.0</td>\n",
       "      <td>1.0</td>\n",
       "      <td>0</td>\n",
       "      <td>1</td>\n",
       "      <td>0</td>\n",
       "    </tr>\n",
       "    <tr>\n",
       "      <th>7</th>\n",
       "      <td>5a8bc65990b245e5a138643cd4eb9837</td>\n",
       "      <td>0</td>\n",
       "      <td>3</td>\n",
       "      <td>0</td>\n",
       "      <td>1.0</td>\n",
       "      <td>1.0</td>\n",
       "      <td>1.0</td>\n",
       "      <td>0.0</td>\n",
       "      <td>0</td>\n",
       "      <td>0</td>\n",
       "      <td>1</td>\n",
       "    </tr>\n",
       "    <tr>\n",
       "      <th>8</th>\n",
       "      <td>f19421c1d4aa40978ebb69ca19b0e20d</td>\n",
       "      <td>5</td>\n",
       "      <td>5</td>\n",
       "      <td>5</td>\n",
       "      <td>1.0</td>\n",
       "      <td>1.0</td>\n",
       "      <td>1.0</td>\n",
       "      <td>1.0</td>\n",
       "      <td>1</td>\n",
       "      <td>0</td>\n",
       "      <td>0</td>\n",
       "    </tr>\n",
       "    <tr>\n",
       "      <th>9</th>\n",
       "      <td>2906b810c7d4411798c6938adc9daaa5</td>\n",
       "      <td>10</td>\n",
       "      <td>7</td>\n",
       "      <td>2</td>\n",
       "      <td>1.0</td>\n",
       "      <td>1.0</td>\n",
       "      <td>0.0</td>\n",
       "      <td>1.0</td>\n",
       "      <td>0</td>\n",
       "      <td>1</td>\n",
       "      <td>0</td>\n",
       "    </tr>\n",
       "  </tbody>\n",
       "</table>\n",
       "</div>"
      ],
      "text/plain": [
       "                                 id  difficulty  duration  reward  email  \\\n",
       "0  ae264e3637204a6fb9bb56bc8210ddfd          10         7      10    1.0   \n",
       "1  4d5c57ea9a6940dd891ad53e9dbe8da0          10         5      10    1.0   \n",
       "2  3f207df678b143eea3cee63160fa8bed           0         4       0    1.0   \n",
       "3  9b98b8c7a33c4b65b9aebfe6a799e6d9           5         7       5    1.0   \n",
       "4  0b1e1539f2cc45b7b9fa7c272da2e1d7          20        10       5    1.0   \n",
       "5  2298d6c36e964ae4a3e7e9706d1fb8c2           7         7       3    1.0   \n",
       "6  fafdcd668e3743c1bb461111dcafc2a4          10        10       2    1.0   \n",
       "7  5a8bc65990b245e5a138643cd4eb9837           0         3       0    1.0   \n",
       "8  f19421c1d4aa40978ebb69ca19b0e20d           5         5       5    1.0   \n",
       "9  2906b810c7d4411798c6938adc9daaa5          10         7       2    1.0   \n",
       "\n",
       "   mobile  social  web  bogo  discount  informational  \n",
       "0     1.0     1.0  0.0     1         0              0  \n",
       "1     1.0     1.0  1.0     1         0              0  \n",
       "2     1.0     0.0  1.0     0         0              1  \n",
       "3     1.0     0.0  1.0     1         0              0  \n",
       "4     0.0     0.0  1.0     0         1              0  \n",
       "5     1.0     1.0  1.0     0         1              0  \n",
       "6     1.0     1.0  1.0     0         1              0  \n",
       "7     1.0     1.0  0.0     0         0              1  \n",
       "8     1.0     1.0  1.0     1         0              0  \n",
       "9     1.0     0.0  1.0     0         1              0  "
      ]
     },
     "execution_count": 11,
     "metadata": {},
     "output_type": "execute_result"
    }
   ],
   "source": [
    "portfolio_clean = clean_portfolio(portfolio)\n",
    "portfolio_clean"
   ]
  },
  {
   "cell_type": "code",
   "execution_count": 12,
   "metadata": {},
   "outputs": [],
   "source": [
    "def clean_profile(profile):\n",
    "    '''\n",
    "    INPUT:\n",
    "    profile - original dataframe read from profile json file\n",
    "    \n",
    "    OUTPUT:\n",
    "    df        - cleaned and extended profile dataframe \n",
    "    \n",
    "    Description:\n",
    "    this function gets the profile dataframe and make the defauls age '118' as nan and add extra \n",
    "    fields to it, 10 columns will be added to capture the decade for the age and create 3 more columns\n",
    "    for gender and re-rder the profile df\n",
    "    '''\n",
    "    \n",
    "    dropped_cols = ['gender']\n",
    "    df = profile.copy()\n",
    "    cols = df.columns.tolist()\n",
    "    #re-order the df by bringin id in the beginning\n",
    "    cols = cols[-2:-1]+cols[:-2]+cols[-1:]\n",
    "    df = df[cols]\n",
    "    #make the default age 118 as nan\n",
    "    df['age'] = df['age'].apply(lambda x:np.nan if (x == 118) else x)\n",
    "    for i in range(11):\n",
    "        if i != 0:\n",
    "            #calculate the decade the person lives in ...\n",
    "            stage = i * 10\n",
    "            df[str(stage)+\"'s\"] = df['age'].apply(lambda x:1 if((x-stage<10)and (x-stage>=0)) else 0)\n",
    "#    df['gender'] = df.gender.map({'None':0, 'M':1, 'F':2, 'O':3})\n",
    "    df = pd.concat([df, pd.get_dummies(df['gender'],prefix='gender')], axis=1)\n",
    "    df = df.drop(dropped_cols,axis=1)\n",
    "    return df"
   ]
  },
  {
   "cell_type": "code",
   "execution_count": 13,
   "metadata": {},
   "outputs": [
    {
     "data": {
      "text/html": [
       "<div>\n",
       "<style scoped>\n",
       "    .dataframe tbody tr th:only-of-type {\n",
       "        vertical-align: middle;\n",
       "    }\n",
       "\n",
       "    .dataframe tbody tr th {\n",
       "        vertical-align: top;\n",
       "    }\n",
       "\n",
       "    .dataframe thead th {\n",
       "        text-align: right;\n",
       "    }\n",
       "</style>\n",
       "<table border=\"1\" class=\"dataframe\">\n",
       "  <thead>\n",
       "    <tr style=\"text-align: right;\">\n",
       "      <th></th>\n",
       "      <th>id</th>\n",
       "      <th>age</th>\n",
       "      <th>became_member_on</th>\n",
       "      <th>income</th>\n",
       "      <th>10's</th>\n",
       "      <th>20's</th>\n",
       "      <th>30's</th>\n",
       "      <th>40's</th>\n",
       "      <th>50's</th>\n",
       "      <th>60's</th>\n",
       "      <th>70's</th>\n",
       "      <th>80's</th>\n",
       "      <th>90's</th>\n",
       "      <th>100's</th>\n",
       "      <th>gender_F</th>\n",
       "      <th>gender_M</th>\n",
       "      <th>gender_O</th>\n",
       "    </tr>\n",
       "  </thead>\n",
       "  <tbody>\n",
       "    <tr>\n",
       "      <th>0</th>\n",
       "      <td>68be06ca386d4c31939f3a4f0e3dd783</td>\n",
       "      <td>NaN</td>\n",
       "      <td>20170212</td>\n",
       "      <td>NaN</td>\n",
       "      <td>0</td>\n",
       "      <td>0</td>\n",
       "      <td>0</td>\n",
       "      <td>0</td>\n",
       "      <td>0</td>\n",
       "      <td>0</td>\n",
       "      <td>0</td>\n",
       "      <td>0</td>\n",
       "      <td>0</td>\n",
       "      <td>0</td>\n",
       "      <td>0</td>\n",
       "      <td>0</td>\n",
       "      <td>0</td>\n",
       "    </tr>\n",
       "    <tr>\n",
       "      <th>1</th>\n",
       "      <td>0610b486422d4921ae7d2bf64640c50b</td>\n",
       "      <td>55.0</td>\n",
       "      <td>20170715</td>\n",
       "      <td>112000.0</td>\n",
       "      <td>0</td>\n",
       "      <td>0</td>\n",
       "      <td>0</td>\n",
       "      <td>0</td>\n",
       "      <td>1</td>\n",
       "      <td>0</td>\n",
       "      <td>0</td>\n",
       "      <td>0</td>\n",
       "      <td>0</td>\n",
       "      <td>0</td>\n",
       "      <td>1</td>\n",
       "      <td>0</td>\n",
       "      <td>0</td>\n",
       "    </tr>\n",
       "    <tr>\n",
       "      <th>2</th>\n",
       "      <td>38fe809add3b4fcf9315a9694bb96ff5</td>\n",
       "      <td>NaN</td>\n",
       "      <td>20180712</td>\n",
       "      <td>NaN</td>\n",
       "      <td>0</td>\n",
       "      <td>0</td>\n",
       "      <td>0</td>\n",
       "      <td>0</td>\n",
       "      <td>0</td>\n",
       "      <td>0</td>\n",
       "      <td>0</td>\n",
       "      <td>0</td>\n",
       "      <td>0</td>\n",
       "      <td>0</td>\n",
       "      <td>0</td>\n",
       "      <td>0</td>\n",
       "      <td>0</td>\n",
       "    </tr>\n",
       "    <tr>\n",
       "      <th>3</th>\n",
       "      <td>78afa995795e4d85b5d9ceeca43f5fef</td>\n",
       "      <td>75.0</td>\n",
       "      <td>20170509</td>\n",
       "      <td>100000.0</td>\n",
       "      <td>0</td>\n",
       "      <td>0</td>\n",
       "      <td>0</td>\n",
       "      <td>0</td>\n",
       "      <td>0</td>\n",
       "      <td>0</td>\n",
       "      <td>1</td>\n",
       "      <td>0</td>\n",
       "      <td>0</td>\n",
       "      <td>0</td>\n",
       "      <td>1</td>\n",
       "      <td>0</td>\n",
       "      <td>0</td>\n",
       "    </tr>\n",
       "    <tr>\n",
       "      <th>4</th>\n",
       "      <td>a03223e636434f42ac4c3df47e8bac43</td>\n",
       "      <td>NaN</td>\n",
       "      <td>20170804</td>\n",
       "      <td>NaN</td>\n",
       "      <td>0</td>\n",
       "      <td>0</td>\n",
       "      <td>0</td>\n",
       "      <td>0</td>\n",
       "      <td>0</td>\n",
       "      <td>0</td>\n",
       "      <td>0</td>\n",
       "      <td>0</td>\n",
       "      <td>0</td>\n",
       "      <td>0</td>\n",
       "      <td>0</td>\n",
       "      <td>0</td>\n",
       "      <td>0</td>\n",
       "    </tr>\n",
       "  </tbody>\n",
       "</table>\n",
       "</div>"
      ],
      "text/plain": [
       "                                 id   age  became_member_on    income  10's  \\\n",
       "0  68be06ca386d4c31939f3a4f0e3dd783   NaN          20170212       NaN     0   \n",
       "1  0610b486422d4921ae7d2bf64640c50b  55.0          20170715  112000.0     0   \n",
       "2  38fe809add3b4fcf9315a9694bb96ff5   NaN          20180712       NaN     0   \n",
       "3  78afa995795e4d85b5d9ceeca43f5fef  75.0          20170509  100000.0     0   \n",
       "4  a03223e636434f42ac4c3df47e8bac43   NaN          20170804       NaN     0   \n",
       "\n",
       "   20's  30's  40's  50's  60's  70's  80's  90's  100's  gender_F  gender_M  \\\n",
       "0     0     0     0     0     0     0     0     0      0         0         0   \n",
       "1     0     0     0     1     0     0     0     0      0         1         0   \n",
       "2     0     0     0     0     0     0     0     0      0         0         0   \n",
       "3     0     0     0     0     0     1     0     0      0         1         0   \n",
       "4     0     0     0     0     0     0     0     0      0         0         0   \n",
       "\n",
       "   gender_O  \n",
       "0         0  \n",
       "1         0  \n",
       "2         0  \n",
       "3         0  \n",
       "4         0  "
      ]
     },
     "execution_count": 13,
     "metadata": {},
     "output_type": "execute_result"
    }
   ],
   "source": [
    "profile_clean = clean_profile(profile)\n",
    "profile_clean.head()"
   ]
  },
  {
   "cell_type": "code",
   "execution_count": 14,
   "metadata": {},
   "outputs": [],
   "source": [
    "def clean_transcript(transcript):\n",
    "    '''\n",
    "    INPUT:\n",
    "    transcript - original dataframe read from transcript json file\n",
    "    \n",
    "    OUTPUT:\n",
    "    df        - cleaned and extended transcript dataframe \n",
    "    \n",
    "    Description:\n",
    "    this function gets the transcript dataframe and rename the person field to id and create offer_id, reward and transaction_amount \n",
    "    columns also it create 4 new columns based on the event column.\n",
    "    a re-order df is returned making id the first column\n",
    "    '''\n",
    "    dropped_cols = ['comp_offer_id','value','event']\n",
    "    df = transcript.copy()\n",
    "    df = df.rename(columns = {'person':'id'})\n",
    "    cols = df.columns.tolist()\n",
    "    #re-order the df by brining id to be the first column\n",
    "    cols = cols[-3:-2] + cols[:-3] + cols[-2:]\n",
    "    df = df[cols]\n",
    "    # create new column offer_id whic is based on the value column\n",
    "    df['offer_id'] = df['value'].apply(lambda x: x['offer id'] if ('offer id' in x) else '')\n",
    "    df['comp_offer_id'] = df['value'].apply(lambda x: x['offer_id'] if ('offer_id' in x) else '')\n",
    "    df['offer_id'] = df['offer_id']+df['comp_offer_id']\n",
    "    df['reward'] = df['value'].apply(lambda x: x['reward'] if ('reward' in x) else np.nan)\n",
    "    df['transaction_amount'] = df['value'].apply(lambda x: x['amount'] if ('amount' in x) else np.nan)\n",
    "    df['offer_id'] = df['offer_id'].apply(lambda x:x if (x!='') else np.nan)\n",
    "    df = pd.concat([df, pd.get_dummies(df['event'])], axis=1)\n",
    "    df = df.drop(dropped_cols,axis=1)\n",
    "    return df"
   ]
  },
  {
   "cell_type": "code",
   "execution_count": 15,
   "metadata": {},
   "outputs": [
    {
     "data": {
      "text/html": [
       "<div>\n",
       "<style scoped>\n",
       "    .dataframe tbody tr th:only-of-type {\n",
       "        vertical-align: middle;\n",
       "    }\n",
       "\n",
       "    .dataframe tbody tr th {\n",
       "        vertical-align: top;\n",
       "    }\n",
       "\n",
       "    .dataframe thead th {\n",
       "        text-align: right;\n",
       "    }\n",
       "</style>\n",
       "<table border=\"1\" class=\"dataframe\">\n",
       "  <thead>\n",
       "    <tr style=\"text-align: right;\">\n",
       "      <th></th>\n",
       "      <th>id</th>\n",
       "      <th>time</th>\n",
       "      <th>offer_id</th>\n",
       "      <th>reward</th>\n",
       "      <th>transaction_amount</th>\n",
       "      <th>offer completed</th>\n",
       "      <th>offer received</th>\n",
       "      <th>offer viewed</th>\n",
       "      <th>transaction</th>\n",
       "    </tr>\n",
       "  </thead>\n",
       "  <tbody>\n",
       "    <tr>\n",
       "      <th>0</th>\n",
       "      <td>78afa995795e4d85b5d9ceeca43f5fef</td>\n",
       "      <td>0</td>\n",
       "      <td>9b98b8c7a33c4b65b9aebfe6a799e6d9</td>\n",
       "      <td>NaN</td>\n",
       "      <td>NaN</td>\n",
       "      <td>0</td>\n",
       "      <td>1</td>\n",
       "      <td>0</td>\n",
       "      <td>0</td>\n",
       "    </tr>\n",
       "    <tr>\n",
       "      <th>1</th>\n",
       "      <td>a03223e636434f42ac4c3df47e8bac43</td>\n",
       "      <td>0</td>\n",
       "      <td>0b1e1539f2cc45b7b9fa7c272da2e1d7</td>\n",
       "      <td>NaN</td>\n",
       "      <td>NaN</td>\n",
       "      <td>0</td>\n",
       "      <td>1</td>\n",
       "      <td>0</td>\n",
       "      <td>0</td>\n",
       "    </tr>\n",
       "    <tr>\n",
       "      <th>2</th>\n",
       "      <td>e2127556f4f64592b11af22de27a7932</td>\n",
       "      <td>0</td>\n",
       "      <td>2906b810c7d4411798c6938adc9daaa5</td>\n",
       "      <td>NaN</td>\n",
       "      <td>NaN</td>\n",
       "      <td>0</td>\n",
       "      <td>1</td>\n",
       "      <td>0</td>\n",
       "      <td>0</td>\n",
       "    </tr>\n",
       "    <tr>\n",
       "      <th>3</th>\n",
       "      <td>8ec6ce2a7e7949b1bf142def7d0e0586</td>\n",
       "      <td>0</td>\n",
       "      <td>fafdcd668e3743c1bb461111dcafc2a4</td>\n",
       "      <td>NaN</td>\n",
       "      <td>NaN</td>\n",
       "      <td>0</td>\n",
       "      <td>1</td>\n",
       "      <td>0</td>\n",
       "      <td>0</td>\n",
       "    </tr>\n",
       "    <tr>\n",
       "      <th>4</th>\n",
       "      <td>68617ca6246f4fbc85e91a2a49552598</td>\n",
       "      <td>0</td>\n",
       "      <td>4d5c57ea9a6940dd891ad53e9dbe8da0</td>\n",
       "      <td>NaN</td>\n",
       "      <td>NaN</td>\n",
       "      <td>0</td>\n",
       "      <td>1</td>\n",
       "      <td>0</td>\n",
       "      <td>0</td>\n",
       "    </tr>\n",
       "  </tbody>\n",
       "</table>\n",
       "</div>"
      ],
      "text/plain": [
       "                                 id  time                          offer_id  \\\n",
       "0  78afa995795e4d85b5d9ceeca43f5fef     0  9b98b8c7a33c4b65b9aebfe6a799e6d9   \n",
       "1  a03223e636434f42ac4c3df47e8bac43     0  0b1e1539f2cc45b7b9fa7c272da2e1d7   \n",
       "2  e2127556f4f64592b11af22de27a7932     0  2906b810c7d4411798c6938adc9daaa5   \n",
       "3  8ec6ce2a7e7949b1bf142def7d0e0586     0  fafdcd668e3743c1bb461111dcafc2a4   \n",
       "4  68617ca6246f4fbc85e91a2a49552598     0  4d5c57ea9a6940dd891ad53e9dbe8da0   \n",
       "\n",
       "   reward  transaction_amount  offer completed  offer received  offer viewed  \\\n",
       "0     NaN                 NaN                0               1             0   \n",
       "1     NaN                 NaN                0               1             0   \n",
       "2     NaN                 NaN                0               1             0   \n",
       "3     NaN                 NaN                0               1             0   \n",
       "4     NaN                 NaN                0               1             0   \n",
       "\n",
       "   transaction  \n",
       "0            0  \n",
       "1            0  \n",
       "2            0  \n",
       "3            0  \n",
       "4            0  "
      ]
     },
     "execution_count": 15,
     "metadata": {},
     "output_type": "execute_result"
    }
   ],
   "source": [
    "transcript_clean = clean_transcript(transcript)\n",
    "transcript_clean.head()"
   ]
  },
  {
   "cell_type": "code",
   "execution_count": 16,
   "metadata": {},
   "outputs": [
    {
     "data": {
      "text/plain": [
       "count    138953.000000\n",
       "mean         12.777356\n",
       "std          30.250529\n",
       "min           0.050000\n",
       "25%           2.780000\n",
       "50%           8.890000\n",
       "75%          18.070000\n",
       "max        1062.280000\n",
       "Name: transaction_amount, dtype: float64"
      ]
     },
     "execution_count": 16,
     "metadata": {},
     "output_type": "execute_result"
    }
   ],
   "source": [
    "transcript_clean.transaction_amount.describe()"
   ]
  },
  {
   "cell_type": "code",
   "execution_count": 17,
   "metadata": {},
   "outputs": [
    {
     "data": {
      "text/plain": [
       "138953"
      ]
     },
     "execution_count": 17,
     "metadata": {},
     "output_type": "execute_result"
    }
   ],
   "source": [
    "transcript_clean.transaction.sum()"
   ]
  },
  {
   "cell_type": "code",
   "execution_count": 18,
   "metadata": {},
   "outputs": [],
   "source": [
    "def offer_mapping_keyval(key_val):\n",
    "    '''\n",
    "    INPUT:\n",
    "    key_val - a string wither it is a key or value to map the offer name to and ID and vice versa\n",
    "    \n",
    "    OUTPUT:\n",
    "    val        - if the key_val is a key, the value mapping is returned (offer name)\n",
    "    key        - if the key_val is a value, the key mapping is returned (offer id)\n",
    "    0          - if nothing found, not key or val then return 0\n",
    "    \n",
    "    Description:\n",
    "    this function gets maps the offer ID to the offer name , or vice versa\n",
    "    '''\n",
    "    offer_mapping = {'0b1e1539f2cc45b7b9fa7c272da2e1d7':'offer_1',\n",
    "       '2298d6c36e964ae4a3e7e9706d1fb8c2':'offer_2',\n",
    "       '2906b810c7d4411798c6938adc9daaa5':'offer_3',\n",
    "       '3f207df678b143eea3cee63160fa8bed':'offer_4',\n",
    "       '4d5c57ea9a6940dd891ad53e9dbe8da0':'offer_5',\n",
    "       '5a8bc65990b245e5a138643cd4eb9837':'offer_6',\n",
    "       '9b98b8c7a33c4b65b9aebfe6a799e6d9':'offer_7',\n",
    "       'ae264e3637204a6fb9bb56bc8210ddfd':'offer_8',\n",
    "       'f19421c1d4aa40978ebb69ca19b0e20d':'offer_9',\n",
    "       'fafdcd668e3743c1bb461111dcafc2a4':'offer_10'}\n",
    "    \n",
    "    for key,val in offer_mapping.items():\n",
    "            if key == key_val:\n",
    "                return val\n",
    "            if val == key_val:\n",
    "                return key\n",
    "    return 0"
   ]
  },
  {
   "cell_type": "code",
   "execution_count": 19,
   "metadata": {},
   "outputs": [
    {
     "name": "stdout",
     "output_type": "stream",
     "text": [
      "offer_0 --->  0\n",
      "offer_1 --->  0b1e1539f2cc45b7b9fa7c272da2e1d7\n",
      "offer_2 --->  2298d6c36e964ae4a3e7e9706d1fb8c2\n",
      "offer_3 --->  2906b810c7d4411798c6938adc9daaa5\n",
      "offer_4 --->  3f207df678b143eea3cee63160fa8bed\n",
      "offer_5 --->  4d5c57ea9a6940dd891ad53e9dbe8da0\n",
      "offer_6 --->  5a8bc65990b245e5a138643cd4eb9837\n",
      "offer_7 --->  9b98b8c7a33c4b65b9aebfe6a799e6d9\n",
      "offer_8 --->  ae264e3637204a6fb9bb56bc8210ddfd\n",
      "offer_9 --->  f19421c1d4aa40978ebb69ca19b0e20d\n",
      "offer_10 --->  fafdcd668e3743c1bb461111dcafc2a4\n"
     ]
    }
   ],
   "source": [
    "#test the offer_mapping_keyval function\n",
    "for c in range(11):\n",
    "    offer = 'offer_' + str(c)\n",
    "    print(offer,'---> ',offer_mapping_keyval(offer))\n"
   ]
  },
  {
   "cell_type": "code",
   "execution_count": 20,
   "metadata": {},
   "outputs": [],
   "source": [
    "def merge_clean_all():\n",
    "    '''\n",
    "    INPUT:\n",
    "    \n",
    "    OUTPUT:\n",
    "    df_merged  - a dataframe with all the cleaned dataframes merged(profile_clean,transcript_clean,portfolio_clean)\n",
    "    \n",
    "    Description:\n",
    "    this function merges the 3 cleaned dataframes into one dataframe change the offer columns to the offer_mapping value\n",
    "    also it changes some column names to person_id and points\n",
    "    '''\n",
    "    dropped_cols = ['id_y','became_member_on','offer_id']\n",
    "    df_merged = transcript_clean.merge(profile_clean,how='left',on='id')\n",
    "    df_merged = df_merged.merge(portfolio_clean,how='left',left_on='offer_id',right_on='id')\n",
    "    df_merged = pd.concat([df_merged, pd.get_dummies(df_merged['offer_id'])], axis=1)\n",
    "    df_merged = df_merged.drop(dropped_cols,axis=1)\n",
    "    df_merged.rename(columns = {'id_x':'person_id','reward_x':'points',},inplace=True)\n",
    "    cols = []\n",
    "    for c in df_merged.columns:\n",
    "        #map the offer id to the offer name through the function call\n",
    "        found = offer_mapping_keyval(c)\n",
    "        if found == 0:\n",
    "            cols.append(c)\n",
    "        else:\n",
    "            cols.append(found)\n",
    "    df_merged.columns = cols\n",
    "    return df_merged\n",
    "    "
   ]
  },
  {
   "cell_type": "code",
   "execution_count": 21,
   "metadata": {},
   "outputs": [
    {
     "data": {
      "text/html": [
       "<div>\n",
       "<style scoped>\n",
       "    .dataframe tbody tr th:only-of-type {\n",
       "        vertical-align: middle;\n",
       "    }\n",
       "\n",
       "    .dataframe tbody tr th {\n",
       "        vertical-align: top;\n",
       "    }\n",
       "\n",
       "    .dataframe thead th {\n",
       "        text-align: right;\n",
       "    }\n",
       "</style>\n",
       "<table border=\"1\" class=\"dataframe\">\n",
       "  <thead>\n",
       "    <tr style=\"text-align: right;\">\n",
       "      <th></th>\n",
       "      <th>person_id</th>\n",
       "      <th>time</th>\n",
       "      <th>points</th>\n",
       "      <th>transaction_amount</th>\n",
       "      <th>offer completed</th>\n",
       "      <th>offer received</th>\n",
       "      <th>offer viewed</th>\n",
       "      <th>transaction</th>\n",
       "      <th>age</th>\n",
       "      <th>income</th>\n",
       "      <th>...</th>\n",
       "      <th>offer_1</th>\n",
       "      <th>offer_2</th>\n",
       "      <th>offer_3</th>\n",
       "      <th>offer_4</th>\n",
       "      <th>offer_5</th>\n",
       "      <th>offer_6</th>\n",
       "      <th>offer_7</th>\n",
       "      <th>offer_8</th>\n",
       "      <th>offer_9</th>\n",
       "      <th>offer_10</th>\n",
       "    </tr>\n",
       "  </thead>\n",
       "  <tbody>\n",
       "    <tr>\n",
       "      <th>0</th>\n",
       "      <td>78afa995795e4d85b5d9ceeca43f5fef</td>\n",
       "      <td>0</td>\n",
       "      <td>NaN</td>\n",
       "      <td>NaN</td>\n",
       "      <td>0</td>\n",
       "      <td>1</td>\n",
       "      <td>0</td>\n",
       "      <td>0</td>\n",
       "      <td>75.0</td>\n",
       "      <td>100000.0</td>\n",
       "      <td>...</td>\n",
       "      <td>0</td>\n",
       "      <td>0</td>\n",
       "      <td>0</td>\n",
       "      <td>0</td>\n",
       "      <td>0</td>\n",
       "      <td>0</td>\n",
       "      <td>1</td>\n",
       "      <td>0</td>\n",
       "      <td>0</td>\n",
       "      <td>0</td>\n",
       "    </tr>\n",
       "    <tr>\n",
       "      <th>1</th>\n",
       "      <td>a03223e636434f42ac4c3df47e8bac43</td>\n",
       "      <td>0</td>\n",
       "      <td>NaN</td>\n",
       "      <td>NaN</td>\n",
       "      <td>0</td>\n",
       "      <td>1</td>\n",
       "      <td>0</td>\n",
       "      <td>0</td>\n",
       "      <td>NaN</td>\n",
       "      <td>NaN</td>\n",
       "      <td>...</td>\n",
       "      <td>1</td>\n",
       "      <td>0</td>\n",
       "      <td>0</td>\n",
       "      <td>0</td>\n",
       "      <td>0</td>\n",
       "      <td>0</td>\n",
       "      <td>0</td>\n",
       "      <td>0</td>\n",
       "      <td>0</td>\n",
       "      <td>0</td>\n",
       "    </tr>\n",
       "    <tr>\n",
       "      <th>2</th>\n",
       "      <td>e2127556f4f64592b11af22de27a7932</td>\n",
       "      <td>0</td>\n",
       "      <td>NaN</td>\n",
       "      <td>NaN</td>\n",
       "      <td>0</td>\n",
       "      <td>1</td>\n",
       "      <td>0</td>\n",
       "      <td>0</td>\n",
       "      <td>68.0</td>\n",
       "      <td>70000.0</td>\n",
       "      <td>...</td>\n",
       "      <td>0</td>\n",
       "      <td>0</td>\n",
       "      <td>1</td>\n",
       "      <td>0</td>\n",
       "      <td>0</td>\n",
       "      <td>0</td>\n",
       "      <td>0</td>\n",
       "      <td>0</td>\n",
       "      <td>0</td>\n",
       "      <td>0</td>\n",
       "    </tr>\n",
       "    <tr>\n",
       "      <th>3</th>\n",
       "      <td>8ec6ce2a7e7949b1bf142def7d0e0586</td>\n",
       "      <td>0</td>\n",
       "      <td>NaN</td>\n",
       "      <td>NaN</td>\n",
       "      <td>0</td>\n",
       "      <td>1</td>\n",
       "      <td>0</td>\n",
       "      <td>0</td>\n",
       "      <td>NaN</td>\n",
       "      <td>NaN</td>\n",
       "      <td>...</td>\n",
       "      <td>0</td>\n",
       "      <td>0</td>\n",
       "      <td>0</td>\n",
       "      <td>0</td>\n",
       "      <td>0</td>\n",
       "      <td>0</td>\n",
       "      <td>0</td>\n",
       "      <td>0</td>\n",
       "      <td>0</td>\n",
       "      <td>1</td>\n",
       "    </tr>\n",
       "    <tr>\n",
       "      <th>4</th>\n",
       "      <td>68617ca6246f4fbc85e91a2a49552598</td>\n",
       "      <td>0</td>\n",
       "      <td>NaN</td>\n",
       "      <td>NaN</td>\n",
       "      <td>0</td>\n",
       "      <td>1</td>\n",
       "      <td>0</td>\n",
       "      <td>0</td>\n",
       "      <td>NaN</td>\n",
       "      <td>NaN</td>\n",
       "      <td>...</td>\n",
       "      <td>0</td>\n",
       "      <td>0</td>\n",
       "      <td>0</td>\n",
       "      <td>0</td>\n",
       "      <td>1</td>\n",
       "      <td>0</td>\n",
       "      <td>0</td>\n",
       "      <td>0</td>\n",
       "      <td>0</td>\n",
       "      <td>0</td>\n",
       "    </tr>\n",
       "  </tbody>\n",
       "</table>\n",
       "<p>5 rows × 43 columns</p>\n",
       "</div>"
      ],
      "text/plain": [
       "                          person_id  time  points  transaction_amount  \\\n",
       "0  78afa995795e4d85b5d9ceeca43f5fef     0     NaN                 NaN   \n",
       "1  a03223e636434f42ac4c3df47e8bac43     0     NaN                 NaN   \n",
       "2  e2127556f4f64592b11af22de27a7932     0     NaN                 NaN   \n",
       "3  8ec6ce2a7e7949b1bf142def7d0e0586     0     NaN                 NaN   \n",
       "4  68617ca6246f4fbc85e91a2a49552598     0     NaN                 NaN   \n",
       "\n",
       "   offer completed  offer received  offer viewed  transaction   age    income  \\\n",
       "0                0               1             0            0  75.0  100000.0   \n",
       "1                0               1             0            0   NaN       NaN   \n",
       "2                0               1             0            0  68.0   70000.0   \n",
       "3                0               1             0            0   NaN       NaN   \n",
       "4                0               1             0            0   NaN       NaN   \n",
       "\n",
       "     ...     offer_1  offer_2  offer_3  offer_4  offer_5  offer_6  offer_7  \\\n",
       "0    ...           0        0        0        0        0        0        1   \n",
       "1    ...           1        0        0        0        0        0        0   \n",
       "2    ...           0        0        1        0        0        0        0   \n",
       "3    ...           0        0        0        0        0        0        0   \n",
       "4    ...           0        0        0        0        1        0        0   \n",
       "\n",
       "   offer_8  offer_9  offer_10  \n",
       "0        0        0         0  \n",
       "1        0        0         0  \n",
       "2        0        0         0  \n",
       "3        0        0         1  \n",
       "4        0        0         0  \n",
       "\n",
       "[5 rows x 43 columns]"
      ]
     },
     "execution_count": 21,
     "metadata": {},
     "output_type": "execute_result"
    }
   ],
   "source": [
    "df_all = merge_clean_all()\n",
    "df_all.head()\n"
   ]
  },
  {
   "cell_type": "markdown",
   "metadata": {},
   "source": [
    "## 3) Data Analysis and Visualization"
   ]
  },
  {
   "cell_type": "markdown",
   "metadata": {},
   "source": [
    "### * What is the most age demographic group the Starbucks mobile app users are living into?"
   ]
  },
  {
   "cell_type": "code",
   "execution_count": 22,
   "metadata": {},
   "outputs": [],
   "source": [
    "def plot_customer_decade(df,title):\n",
    "    '''\n",
    "    INPUT:\n",
    "    df - a dataframe to be plotted\n",
    "    title - the title of the plot\n",
    "    \n",
    "    OUTPUT:\n",
    "    \n",
    "    Description:\n",
    "    this function gets a dataframe with column as variable and it plots it through seaborn countplot()\n",
    "    '''\n",
    "    plt.figure(figsize=[8, 5])\n",
    "    ax = sb.countplot(data = df, x ='variable',color = sb.color_palette()[0])\n",
    "    plt.xlabel(title)\n",
    "    #ax.set_yscale('log')\n",
    "    plt.show()"
   ]
  },
  {
   "cell_type": "code",
   "execution_count": 23,
   "metadata": {},
   "outputs": [
    {
     "data": {
      "text/html": [
       "<div>\n",
       "<style scoped>\n",
       "    .dataframe tbody tr th:only-of-type {\n",
       "        vertical-align: middle;\n",
       "    }\n",
       "\n",
       "    .dataframe tbody tr th {\n",
       "        vertical-align: top;\n",
       "    }\n",
       "\n",
       "    .dataframe thead th {\n",
       "        text-align: right;\n",
       "    }\n",
       "</style>\n",
       "<table border=\"1\" class=\"dataframe\">\n",
       "  <thead>\n",
       "    <tr style=\"text-align: right;\">\n",
       "      <th></th>\n",
       "      <th>variable</th>\n",
       "      <th>value</th>\n",
       "    </tr>\n",
       "  </thead>\n",
       "  <tbody>\n",
       "    <tr>\n",
       "      <th>73</th>\n",
       "      <td>10's</td>\n",
       "      <td>1</td>\n",
       "    </tr>\n",
       "    <tr>\n",
       "      <th>83</th>\n",
       "      <td>10's</td>\n",
       "      <td>1</td>\n",
       "    </tr>\n",
       "    <tr>\n",
       "      <th>111</th>\n",
       "      <td>10's</td>\n",
       "      <td>1</td>\n",
       "    </tr>\n",
       "    <tr>\n",
       "      <th>146</th>\n",
       "      <td>10's</td>\n",
       "      <td>1</td>\n",
       "    </tr>\n",
       "    <tr>\n",
       "      <th>315</th>\n",
       "      <td>10's</td>\n",
       "      <td>1</td>\n",
       "    </tr>\n",
       "  </tbody>\n",
       "</table>\n",
       "</div>"
      ],
      "text/plain": [
       "    variable  value\n",
       "73      10's      1\n",
       "83      10's      1\n",
       "111     10's      1\n",
       "146     10's      1\n",
       "315     10's      1"
      ]
     },
     "execution_count": 23,
     "metadata": {},
     "output_type": "execute_result"
    }
   ],
   "source": [
    "#prepare the data to be plotted\n",
    "cols = [\"10's\", \"20's\", \"30's\", \"40's\", \"50's\", \"60's\", \"70's\", \"80's\", \"90's\",\"100's\"]\n",
    "df = pd.melt(df_all[cols])\n",
    "df = df[df['value']==1]\n",
    "df.head()"
   ]
  },
  {
   "cell_type": "code",
   "execution_count": 24,
   "metadata": {},
   "outputs": [
    {
     "name": "stdout",
     "output_type": "stream",
     "text": [
      "3962\n",
      "50's     63767\n",
      "60's     53926\n",
      "40's     42480\n",
      "70's     31490\n",
      "30's     30230\n",
      "20's     26979\n",
      "80's     15147\n",
      "90's      4449\n",
      "10's      3962\n",
      "100's      332\n",
      "Name: variable, dtype: int64\n"
     ]
    }
   ],
   "source": [
    "#making sure the plot and data are consistent\n",
    "print(df_all[\"10's\"].sum())\n",
    "print(df.variable.value_counts())"
   ]
  },
  {
   "cell_type": "code",
   "execution_count": 25,
   "metadata": {},
   "outputs": [
    {
     "data": {
      "image/png": "[encoded data removed]",
      "text/plain": [
       "<matplotlib.figure.Figure at 0x7f0e338e62b0>"
      ]
     },
     "metadata": {
      "needs_background": "light"
     },
     "output_type": "display_data"
    }
   ],
   "source": [
    "plot_customer_decade(df,'Customers Age Demographic')"
   ]
  },
  {
   "cell_type": "markdown",
   "metadata": {},
   "source": [
    "### * For males,what is the most age demographic group?"
   ]
  },
  {
   "cell_type": "code",
   "execution_count": 26,
   "metadata": {},
   "outputs": [
    {
     "name": "stdout",
     "output_type": "stream",
     "text": [
      "3042\n",
      "50's     34689\n",
      "60's     29034\n",
      "40's     26078\n",
      "30's     19563\n",
      "20's     18290\n",
      "70's     16489\n",
      "80's      6748\n",
      "10's      3042\n",
      "90's      1713\n",
      "100's       44\n",
      "Name: variable, dtype: int64\n"
     ]
    }
   ],
   "source": [
    "#prepare the data to be plotted for decade and gender\n",
    "cols = [\"10's\", \"20's\", \"30's\", \"40's\", \"50's\", \"60's\", \"70's\", \"80's\", \"90's\",\"100's\",'gender_M']\n",
    "df = df_all[cols]\n",
    "df = df[df['gender_M']==1]\n",
    "df = pd.melt(df[[\"10's\", \"20's\", \"30's\", \"40's\", \"50's\", \"60's\", \"70's\", \"80's\", \"90's\",\"100's\"]])\n",
    "df = df[df['value']==1]\n",
    "#validate\n",
    "print(df_all[df_all['gender_M']==1][\"10's\"].sum())\n",
    "print(df.variable.value_counts())"
   ]
  },
  {
   "cell_type": "code",
   "execution_count": 27,
   "metadata": {},
   "outputs": [
    {
     "data": {
      "image/png": "[encoded data removed]",
      "text/plain": [
       "<matplotlib.figure.Figure at 0x7f0e338b4748>"
      ]
     },
     "metadata": {
      "needs_background": "light"
     },
     "output_type": "display_data"
    }
   ],
   "source": [
    "plot_customer_decade(df,'Male Customers Age Demographics')"
   ]
  },
  {
   "cell_type": "markdown",
   "metadata": {},
   "source": [
    "### * for females,what is the most age demographic group?"
   ]
  },
  {
   "cell_type": "code",
   "execution_count": 28,
   "metadata": {},
   "outputs": [
    {
     "name": "stdout",
     "output_type": "stream",
     "text": [
      "920\n",
      "50's     28060\n",
      "60's     24112\n",
      "40's     15635\n",
      "70's     14548\n",
      "30's     10231\n",
      "20's      8379\n",
      "80's      8243\n",
      "90's      2704\n",
      "10's       920\n",
      "100's      269\n",
      "Name: variable, dtype: int64\n"
     ]
    }
   ],
   "source": [
    "#prepare the data to be plotted for decade and female\n",
    "df = df_all[[\"10's\", \"20's\", \"30's\", \"40's\", \"50's\", \"60's\", \"70's\", \"80's\", \"90's\",\"100's\",'gender_F']]\n",
    "df = df[df['gender_F']==1]\n",
    "df = pd.melt(df[[\"10's\", \"20's\", \"30's\", \"40's\", \"50's\", \"60's\", \"70's\", \"80's\", \"90's\",\"100's\"]])\n",
    "df = df[df['value']==1]\n",
    "#validate\n",
    "print(df_all[df_all['gender_F']==1][\"10's\"].sum())\n",
    "print(df.variable.value_counts())"
   ]
  },
  {
   "cell_type": "code",
   "execution_count": 29,
   "metadata": {},
   "outputs": [
    {
     "data": {
      "image/png": "[encoded data removed]",
      "text/plain": [
       "<matplotlib.figure.Figure at 0x7f0e338a3a20>"
      ]
     },
     "metadata": {
      "needs_background": "light"
     },
     "output_type": "display_data"
    }
   ],
   "source": [
    "plot_customer_decade(df,'Female Customers Age Demographics')"
   ]
  },
  {
   "cell_type": "markdown",
   "metadata": {},
   "source": [
    "### * What is the average customer spend in Starbucks transaction?"
   ]
  },
  {
   "cell_type": "code",
   "execution_count": 30,
   "metadata": {},
   "outputs": [
    {
     "data": {
      "text/plain": [
       "count    138953.000000\n",
       "mean         12.777356\n",
       "std          30.250529\n",
       "min           0.050000\n",
       "25%           2.780000\n",
       "50%           8.890000\n",
       "75%          18.070000\n",
       "max        1062.280000\n",
       "Name: transaction_amount, dtype: float64"
      ]
     },
     "execution_count": 30,
     "metadata": {},
     "output_type": "execute_result"
    }
   ],
   "source": [
    "#check and validate the answer\n",
    "df_all.transaction_amount.describe()"
   ]
  },
  {
   "cell_type": "code",
   "execution_count": 31,
   "metadata": {},
   "outputs": [
    {
     "data": {
      "image/png": "[encoded data removed]",
      "text/plain": [
       "<matplotlib.figure.Figure at 0x7f0e3388e390>"
      ]
     },
     "metadata": {
      "needs_background": "light"
     },
     "output_type": "display_data"
    }
   ],
   "source": [
    "#plot it as boxplot\n",
    "plt.figure(figsize=(14,6))\n",
    "ax = sb.boxplot(x='transaction_amount', data=df_all, palette='Reds', orient='h')\n",
    "plt.title(\"Distribution of Transactions Amount\", fontsize=20, y=1)\n",
    "plt.xlabel(\"Amount\", fontsize=14, labelpad=5)\n",
    "plt.xticks([10,50,100, 200, 500, 1000, 1100]);"
   ]
  },
  {
   "cell_type": "markdown",
   "metadata": {},
   "source": [
    "### * who are the top 10 customers for starbucks mobile app by the amount spent? "
   ]
  },
  {
   "cell_type": "code",
   "execution_count": 32,
   "metadata": {},
   "outputs": [
    {
     "data": {
      "text/html": [
       "<div>\n",
       "<style scoped>\n",
       "    .dataframe tbody tr th:only-of-type {\n",
       "        vertical-align: middle;\n",
       "    }\n",
       "\n",
       "    .dataframe tbody tr th {\n",
       "        vertical-align: top;\n",
       "    }\n",
       "\n",
       "    .dataframe thead th {\n",
       "        text-align: right;\n",
       "    }\n",
       "</style>\n",
       "<table border=\"1\" class=\"dataframe\">\n",
       "  <thead>\n",
       "    <tr style=\"text-align: right;\">\n",
       "      <th></th>\n",
       "      <th>person_id</th>\n",
       "      <th>transaction_amount</th>\n",
       "    </tr>\n",
       "  </thead>\n",
       "  <tbody>\n",
       "    <tr>\n",
       "      <th>0</th>\n",
       "      <td>3c8d541112a74af99e88abbd0692f00e</td>\n",
       "      <td>1608.69</td>\n",
       "    </tr>\n",
       "    <tr>\n",
       "      <th>1</th>\n",
       "      <td>f1d65ae63f174b8f80fa063adcaa63b7</td>\n",
       "      <td>1365.66</td>\n",
       "    </tr>\n",
       "    <tr>\n",
       "      <th>2</th>\n",
       "      <td>ae6f43089b674728a50b8727252d3305</td>\n",
       "      <td>1327.74</td>\n",
       "    </tr>\n",
       "    <tr>\n",
       "      <th>3</th>\n",
       "      <td>626df8678e2a4953b9098246418c9cfa</td>\n",
       "      <td>1321.42</td>\n",
       "    </tr>\n",
       "    <tr>\n",
       "      <th>4</th>\n",
       "      <td>73afdeca19e349b98f09e928644610f8</td>\n",
       "      <td>1319.97</td>\n",
       "    </tr>\n",
       "    <tr>\n",
       "      <th>5</th>\n",
       "      <td>52959f19113e4241a8cb3bef486c6412</td>\n",
       "      <td>1292.86</td>\n",
       "    </tr>\n",
       "    <tr>\n",
       "      <th>6</th>\n",
       "      <td>ad1f0a409ae642bc9a43f31f56c130fc</td>\n",
       "      <td>1258.19</td>\n",
       "    </tr>\n",
       "    <tr>\n",
       "      <th>7</th>\n",
       "      <td>d240308de0ee4cf8bb6072816268582b</td>\n",
       "      <td>1251.99</td>\n",
       "    </tr>\n",
       "    <tr>\n",
       "      <th>8</th>\n",
       "      <td>946fc0d3ecc4492aa4cc06cf6b1492c3</td>\n",
       "      <td>1232.40</td>\n",
       "    </tr>\n",
       "    <tr>\n",
       "      <th>9</th>\n",
       "      <td>6406abad8e2c4b8584e4f68003de148d</td>\n",
       "      <td>1211.76</td>\n",
       "    </tr>\n",
       "  </tbody>\n",
       "</table>\n",
       "</div>"
      ],
      "text/plain": [
       "                          person_id  transaction_amount\n",
       "0  3c8d541112a74af99e88abbd0692f00e             1608.69\n",
       "1  f1d65ae63f174b8f80fa063adcaa63b7             1365.66\n",
       "2  ae6f43089b674728a50b8727252d3305             1327.74\n",
       "3  626df8678e2a4953b9098246418c9cfa             1321.42\n",
       "4  73afdeca19e349b98f09e928644610f8             1319.97\n",
       "5  52959f19113e4241a8cb3bef486c6412             1292.86\n",
       "6  ad1f0a409ae642bc9a43f31f56c130fc             1258.19\n",
       "7  d240308de0ee4cf8bb6072816268582b             1251.99\n",
       "8  946fc0d3ecc4492aa4cc06cf6b1492c3             1232.40\n",
       "9  6406abad8e2c4b8584e4f68003de148d             1211.76"
      ]
     },
     "execution_count": 32,
     "metadata": {},
     "output_type": "execute_result"
    }
   ],
   "source": [
    "#validate and check the answer\n",
    "df_all.groupby('person_id').transaction_amount.sum().nlargest(10).reset_index()"
   ]
  },
  {
   "cell_type": "code",
   "execution_count": 33,
   "metadata": {},
   "outputs": [],
   "source": [
    "#this famous function created in Seattle_AirBNB project in this Udacity term...\n",
    "\n",
    "def plot(x,y,title,figsize=[20,10],plot=\"barplot\",rotation=0):\n",
    "    \"\"\"\"\n",
    "    \n",
    "    INPUTS:\n",
    "    x: x-axis to be displayed\n",
    "    y: y-axis to be displayed\n",
    "    title: title for plot\n",
    "    figsize: figure size to be passed -default [20,10]\n",
    "    plot: if you want to use lineplot pointplot or the -default barplot\n",
    "    rotation: if you want to rotate the x values text - default 0\n",
    "    \n",
    "    OUTPUT:\n",
    "    \n",
    "    Description:\n",
    "    Plot display a chart visulatization either lineplot or pointplot\n",
    "    \"\"\"\n",
    "    plt.figure(figsize = figsize);\n",
    "    plt.title(title)\n",
    "    clrs = ['grey' if (i <= np.mean(y)) else 'red' for i in y ]\n",
    "    plt.xticks(rotation = rotation);\n",
    "    if (plot == 'lineplot'):\n",
    "        sns.lineplot(x, y, palette=clrs,sort=False);\n",
    "    elif (plot =='pointplot') :\n",
    "        sb.pointplot(y, x, palette=clrs);\n",
    "    else:    \n",
    "        sb.barplot(x, y, palette=clrs);\n",
    "    return"
   ]
  },
  {
   "cell_type": "code",
   "execution_count": 34,
   "metadata": {},
   "outputs": [
    {
     "data": {
      "image/png": "[encoded data removed]",
      "text/plain": [
       "<matplotlib.figure.Figure at 0x7f0e339301d0>"
      ]
     },
     "metadata": {
      "needs_background": "light"
     },
     "output_type": "display_data"
    }
   ],
   "source": [
    "#prepare the data\n",
    "x = np.array(df_all.groupby('person_id').transaction_amount.sum().nlargest(10).reset_index()['person_id'])\n",
    "y = np.array(df_all.groupby('person_id').transaction_amount.sum().nlargest(10).reset_index()['transaction_amount'])\n",
    "plot(x,y,'Top 10 Customers by Amount',plot='pointplot')"
   ]
  },
  {
   "cell_type": "code",
   "execution_count": 35,
   "metadata": {},
   "outputs": [
    {
     "data": {
      "image/png": "[encoded data removed]",
      "text/plain": [
       "<matplotlib.figure.Figure at 0x7f0e33802f98>"
      ]
     },
     "metadata": {
      "needs_background": "light"
     },
     "output_type": "display_data"
    }
   ],
   "source": [
    "#plot it as pointplot\n",
    "plt.figure(figsize = [10, 5]);\n",
    "sb.pointplot(data = df_all.groupby('person_id').transaction_amount.sum().nlargest(10).reset_index(), x = 'transaction_amount', y = 'person_id')\n",
    "plt.title(\"Top 10 Customers by Amount\", fontsize=10, y=1)\n",
    "plt.ylabel(\"Customer\", fontsize=10, labelpad=5)\n",
    "plt.xlabel(\"\", fontsize=10, labelpad=5)\n",
    "plt.show()"
   ]
  },
  {
   "cell_type": "markdown",
   "metadata": {},
   "source": [
    "### * who are the top 10 customers for starbucks mobile app by the number of transactions?"
   ]
  },
  {
   "cell_type": "code",
   "execution_count": 36,
   "metadata": {},
   "outputs": [
    {
     "data": {
      "text/html": [
       "<div>\n",
       "<style scoped>\n",
       "    .dataframe tbody tr th:only-of-type {\n",
       "        vertical-align: middle;\n",
       "    }\n",
       "\n",
       "    .dataframe tbody tr th {\n",
       "        vertical-align: top;\n",
       "    }\n",
       "\n",
       "    .dataframe thead th {\n",
       "        text-align: right;\n",
       "    }\n",
       "</style>\n",
       "<table border=\"1\" class=\"dataframe\">\n",
       "  <thead>\n",
       "    <tr style=\"text-align: right;\">\n",
       "      <th></th>\n",
       "      <th>person_id</th>\n",
       "      <th>transaction</th>\n",
       "    </tr>\n",
       "  </thead>\n",
       "  <tbody>\n",
       "    <tr>\n",
       "      <th>0</th>\n",
       "      <td>79d9d4f86aca4bed9290350fb43817c2</td>\n",
       "      <td>36</td>\n",
       "    </tr>\n",
       "    <tr>\n",
       "      <th>1</th>\n",
       "      <td>8dbfa485249f409aa223a2130f40634a</td>\n",
       "      <td>36</td>\n",
       "    </tr>\n",
       "    <tr>\n",
       "      <th>2</th>\n",
       "      <td>94de646f7b6041228ca7dec82adb97d2</td>\n",
       "      <td>35</td>\n",
       "    </tr>\n",
       "    <tr>\n",
       "      <th>3</th>\n",
       "      <td>5e60c6aa3b834e44b822ea43a3efea26</td>\n",
       "      <td>32</td>\n",
       "    </tr>\n",
       "    <tr>\n",
       "      <th>4</th>\n",
       "      <td>b1f4ece7d49342628a9ed77aee2cde58</td>\n",
       "      <td>32</td>\n",
       "    </tr>\n",
       "    <tr>\n",
       "      <th>5</th>\n",
       "      <td>a42ed50acc4d4b25bca647c9e0b916ad</td>\n",
       "      <td>31</td>\n",
       "    </tr>\n",
       "    <tr>\n",
       "      <th>6</th>\n",
       "      <td>28681c16026943e68f26feaccab0907f</td>\n",
       "      <td>30</td>\n",
       "    </tr>\n",
       "    <tr>\n",
       "      <th>7</th>\n",
       "      <td>40ce078d5b2a43d19138a788754520be</td>\n",
       "      <td>30</td>\n",
       "    </tr>\n",
       "    <tr>\n",
       "      <th>8</th>\n",
       "      <td>4142f5e23db741b1af4be0287dc91c1c</td>\n",
       "      <td>30</td>\n",
       "    </tr>\n",
       "    <tr>\n",
       "      <th>9</th>\n",
       "      <td>ab25fd6fbd5040f880751921e4029757</td>\n",
       "      <td>30</td>\n",
       "    </tr>\n",
       "  </tbody>\n",
       "</table>\n",
       "</div>"
      ],
      "text/plain": [
       "                          person_id  transaction\n",
       "0  79d9d4f86aca4bed9290350fb43817c2           36\n",
       "1  8dbfa485249f409aa223a2130f40634a           36\n",
       "2  94de646f7b6041228ca7dec82adb97d2           35\n",
       "3  5e60c6aa3b834e44b822ea43a3efea26           32\n",
       "4  b1f4ece7d49342628a9ed77aee2cde58           32\n",
       "5  a42ed50acc4d4b25bca647c9e0b916ad           31\n",
       "6  28681c16026943e68f26feaccab0907f           30\n",
       "7  40ce078d5b2a43d19138a788754520be           30\n",
       "8  4142f5e23db741b1af4be0287dc91c1c           30\n",
       "9  ab25fd6fbd5040f880751921e4029757           30"
      ]
     },
     "execution_count": 36,
     "metadata": {},
     "output_type": "execute_result"
    }
   ],
   "source": [
    "#validate and check the answer\n",
    "df_all.groupby('person_id').transaction.sum().nlargest(10).reset_index()"
   ]
  },
  {
   "cell_type": "code",
   "execution_count": 37,
   "metadata": {},
   "outputs": [
    {
     "data": {
      "image/png": "[encoded data removed]",
      "text/plain": [
       "<matplotlib.figure.Figure at 0x7f0e337b26d8>"
      ]
     },
     "metadata": {
      "needs_background": "light"
     },
     "output_type": "display_data"
    }
   ],
   "source": [
    "#prepare the data\n",
    "x = np.array(df_all.groupby('person_id').transaction.sum().nlargest(10).reset_index()['person_id'])\n",
    "y = np.array(df_all.groupby('person_id').transaction.sum().nlargest(10).reset_index()['transaction'])\n",
    "plot(x,y,'Top 10 Customers by number of transactions',plot='pointplot')"
   ]
  },
  {
   "cell_type": "code",
   "execution_count": 38,
   "metadata": {},
   "outputs": [
    {
     "data": {
      "image/png": "[encoded data removed]",
      "text/plain": [
       "<matplotlib.figure.Figure at 0x7f0e337e36d8>"
      ]
     },
     "metadata": {
      "needs_background": "light"
     },
     "output_type": "display_data"
    }
   ],
   "source": [
    "#plot it as pointplot\n",
    "plt.figure(figsize = [10, 5]);\n",
    "sb.pointplot(data = df_all.groupby('person_id').transaction.sum().nlargest(10).reset_index(), x = 'transaction', y = 'person_id')\n",
    "plt.title(\"Top 10 Customers by number of transactions\", fontsize=10, y=1)\n",
    "plt.ylabel(\"Customer\", fontsize=10, labelpad=5)\n",
    "plt.xlabel(\"\", fontsize=10, labelpad=5)\n",
    "plt.show()"
   ]
  },
  {
   "cell_type": "markdown",
   "metadata": {},
   "source": [
    "### * what is the most common (most completed) offer ?"
   ]
  },
  {
   "cell_type": "code",
   "execution_count": 39,
   "metadata": {},
   "outputs": [
    {
     "data": {
      "text/plain": [
       "offer_10    20241\n",
       "offer_2     20139\n",
       "offer_9     19131\n",
       "offer_5     18222\n",
       "offer_8     18062\n",
       "offer_7     16202\n",
       "offer_3     15767\n",
       "offer_6     14305\n",
       "offer_1     13751\n",
       "offer_4     11761\n",
       "Name: variable, dtype: int64"
      ]
     },
     "execution_count": 39,
     "metadata": {},
     "output_type": "execute_result"
    }
   ],
   "source": [
    "#prepare the data\n",
    "cols = ['offer_1', 'offer_2', 'offer_3', 'offer_4', 'offer_5','offer_6', 'offer_7', 'offer_8', 'offer_9', 'offer_10']\n",
    "df = df_all[cols]\n",
    "df = pd.melt(df[cols])\n",
    "df = df[df['value']==1]\n",
    "df.variable.value_counts()"
   ]
  },
  {
   "cell_type": "code",
   "execution_count": 40,
   "metadata": {},
   "outputs": [
    {
     "data": {
      "image/png": "[encoded data removed]",
      "text/plain": [
       "<matplotlib.figure.Figure at 0x7f0e3389b0f0>"
      ]
     },
     "metadata": {
      "needs_background": "light"
     },
     "output_type": "display_data"
    }
   ],
   "source": [
    "x = np.array(df.groupby('variable').count().reset_index()['variable'])\n",
    "y = np.array(df.groupby('variable').count().reset_index()['value'])\n",
    "plot(x,y,'Most Common Offers')"
   ]
  },
  {
   "cell_type": "code",
   "execution_count": 41,
   "metadata": {},
   "outputs": [
    {
     "data": {
      "text/plain": [
       "offer_10    5317\n",
       "offer_2     5156\n",
       "offer_7     4354\n",
       "offer_9     4296\n",
       "offer_3     4017\n",
       "offer_8     3688\n",
       "offer_1     3420\n",
       "offer_5     3331\n",
       "Name: variable, dtype: int64"
      ]
     },
     "execution_count": 41,
     "metadata": {},
     "output_type": "execute_result"
    }
   ],
   "source": [
    "df = df_all[df_all['offer completed']==1]\n",
    "df = df[cols]\n",
    "df = pd.melt(df[cols])\n",
    "df = df[df['value']==1]\n",
    "df.variable.value_counts()"
   ]
  },
  {
   "cell_type": "code",
   "execution_count": 42,
   "metadata": {},
   "outputs": [
    {
     "data": {
      "image/png": "[encoded data removed]",
      "text/plain": [
       "<matplotlib.figure.Figure at 0x7f0e337092b0>"
      ]
     },
     "metadata": {
      "needs_background": "light"
     },
     "output_type": "display_data"
    }
   ],
   "source": [
    "x = np.array(df.groupby('variable').count().reset_index()['variable'])\n",
    "y = np.array(df.groupby('variable').count().reset_index()['value'])\n",
    "plot(x,y,'Most Completed Offers')"
   ]
  },
  {
   "cell_type": "code",
   "execution_count": 43,
   "metadata": {},
   "outputs": [
    {
     "data": {
      "text/plain": [
       "<matplotlib.figure.Figure at 0x7f0e3372e5c0>"
      ]
     },
     "metadata": {},
     "output_type": "display_data"
    },
    {
     "data": {
      "image/png": "[encoded data removed]",
      "text/plain": [
       "<matplotlib.figure.Figure at 0x7f0e3374d978>"
      ]
     },
     "metadata": {
      "needs_background": "light"
     },
     "output_type": "display_data"
    }
   ],
   "source": [
    "MaleA = df_all.gender_M.sum()\n",
    "FemaleA = df_all.gender_F.sum()\n",
    "MaleC = df_all[df_all['offer completed']== 1].gender_M.sum()\n",
    "FemaleC = df_all[df_all['offer completed']== 1].gender_F.sum()\n",
    "MaleR = df_all[df_all['offer received']== 1].gender_M.sum()\n",
    "FemaleR = df_all[df_all['offer received']== 1].gender_F.sum()\n",
    "available_app = [MaleA,FemaleA]\n",
    "offer_received = [MaleR,FemaleR]\n",
    "offer_completed = [MaleC,FemaleC]\n",
    "index = ['Males','Females']\n",
    "comp = pd.DataFrame({'Registered in App': offer_received,\n",
    "                    'offer received': offer_received,\n",
    "                   'offer completed': offer_completed}, index=index)\n",
    "plt.figure(figsize=[16,5]);\n",
    "ax = comp.plot.bar(rot=0);"
   ]
  },
  {
   "cell_type": "markdown",
   "metadata": {},
   "source": [
    "## 4) Modeling"
   ]
  },
  {
   "cell_type": "markdown",
   "metadata": {},
   "source": [
    "### here we are trying to create a model that predicts wither a customer will respond to an offer or not."
   ]
  },
  {
   "cell_type": "code",
   "execution_count": 44,
   "metadata": {},
   "outputs": [],
   "source": [
    "def model_data_prepare(df,result=1):\n",
    "    '''\n",
    "    INPUT:\n",
    "    df - a dataframe contains most of starbucks mobile app customers data\n",
    "\n",
    "    OUTPUT:\n",
    "    df - a dataframe after dropping some columns and creating the result column\n",
    "    Description:\n",
    "    this function gets a dataframe delete the person_id and customer decade data and add a 'offer' result column\n",
    "    '''\n",
    "    dropped_cols = ['person_id',\"10's\", \"20's\", \"30's\", \"40's\", \"50's\", \"60's\", \"70's\", \"80's\", \"90's\",\"100's\"]\n",
    "#    df = df[df['offer received']==1]\n",
    "#    if result == 1:\n",
    "#        df['result'] = df['bogo'] + df['discount']\n",
    "  \n",
    "    for cols in dropped_cols :\n",
    "        if cols in df.columns:\n",
    "            df.drop(cols,axis=1,inplace=True)\n",
    "    \n",
    "   \n",
    "        \n",
    "    df.fillna(0,inplace=True)\n",
    "#    df.dropna(0,inplace=True)\n",
    "    \n",
    "    return df"
   ]
  },
  {
   "cell_type": "code",
   "execution_count": 45,
   "metadata": {},
   "outputs": [],
   "source": [
    "def get_train_test_split(df,result='bogo'):\n",
    "    '''\n",
    "    INPUT:\n",
    "    df - a dataframe that was prepared by model_data_prepare\n",
    "    \n",
    "    OUTPUT:\n",
    "    X_train  - a subset of the df contains the features fields to train the model \n",
    "    X_test   - a subset of the df contains the features fields to test the model\n",
    "    y_train  - a subset of the df contains the field to be predicted to train the model \n",
    "    y_test   - a subset of the df contains the field to be predicted to test the model\n",
    "    \n",
    "    Description:\n",
    "    this function gets a dataframe and split the data to train and test (y= result column)\n",
    "    '''\n",
    "    print(df.shape)\n",
    "    df = df.drop_duplicates()\n",
    "#    df = df[df['offer received']==1]\n",
    "    print(df.shape)\n",
    "    X = df.drop(result,axis=1)\n",
    "    y = df[result]\n",
    "    \n",
    "    X_train, X_test, y_train, y_test = cross_validation.train_test_split(X, y,test_size=0.025,random_state=42)\n",
    "    print(X_train.shape)\n",
    "    print(X_test.shape)\n",
    "    print(X_train.columns)\n",
    "        \n",
    "    return X_train, X_test, y_train, y_test\n"
   ]
  },
  {
   "cell_type": "code",
   "execution_count": 46,
   "metadata": {},
   "outputs": [
    {
     "data": {
      "text/plain": [
       "Index(['person_id', 'time', 'points', 'transaction_amount', 'offer completed',\n",
       "       'offer received', 'offer viewed', 'transaction', 'age', 'income',\n",
       "       '10's', '20's', '30's', '40's', '50's', '60's', '70's', '80's', '90's',\n",
       "       '100's', 'gender_F', 'gender_M', 'gender_O', 'difficulty', 'duration',\n",
       "       'reward_y', 'email', 'mobile', 'social', 'web', 'bogo', 'discount',\n",
       "       'informational', 'offer_1', 'offer_2', 'offer_3', 'offer_4', 'offer_5',\n",
       "       'offer_6', 'offer_7', 'offer_8', 'offer_9', 'offer_10'],\n",
       "      dtype='object')"
      ]
     },
     "execution_count": 46,
     "metadata": {},
     "output_type": "execute_result"
    }
   ],
   "source": [
    "df_all.columns"
   ]
  },
  {
   "cell_type": "code",
   "execution_count": 47,
   "metadata": {},
   "outputs": [
    {
     "name": "stdout",
     "output_type": "stream",
     "text": [
      "(306534, 32)\n",
      "(282357, 32)\n",
      "(275298, 31)\n",
      "(7059, 31)\n",
      "Index(['time', 'points', 'transaction_amount', 'offer completed',\n",
      "       'offer received', 'offer viewed', 'transaction', 'age', 'income',\n",
      "       'gender_F', 'gender_M', 'gender_O', 'difficulty', 'duration',\n",
      "       'reward_y', 'email', 'mobile', 'social', 'web', 'discount',\n",
      "       'informational', 'offer_1', 'offer_2', 'offer_3', 'offer_4', 'offer_5',\n",
      "       'offer_6', 'offer_7', 'offer_8', 'offer_9', 'offer_10'],\n",
      "      dtype='object')\n",
      "Result for  SGDClassifier :\n",
      "test score: 0.786938659867\n",
      "             precision    recall  f1-score   support\n",
      "\n",
      "        0.0     0.7870    0.9998    0.8807      5554\n",
      "        1.0     0.6667    0.0013    0.0027      1505\n",
      "\n",
      "avg / total     0.7613    0.7869    0.6935      7059\n",
      "\n",
      "Result for  KNeighborsClassifier :\n",
      "test score: 0.937951551211\n",
      "             precision    recall  f1-score   support\n",
      "\n",
      "        0.0     0.9581    0.9633    0.9607      5554\n",
      "        1.0     0.8617    0.8445    0.8530      1505\n",
      "\n",
      "avg / total     0.9375    0.9380    0.9377      7059\n",
      "\n",
      "Result for  GaussianNB :\n",
      "test score: 0.867261651792\n",
      "             precision    recall  f1-score   support\n",
      "\n",
      "        0.0     1.0000    0.8313    0.9079      5554\n",
      "        1.0     0.6163    1.0000    0.7626      1505\n",
      "\n",
      "avg / total     0.9182    0.8673    0.8769      7059\n",
      "\n"
     ]
    }
   ],
   "source": [
    "Classifier = [  SGDClassifier(loss=\"hinge\", penalty=\"l2\", max_iter=5),\n",
    "                KNeighborsClassifier(n_neighbors=3),\n",
    "                GaussianNB()]\n",
    "\n",
    "X_train, X_test, y_train, y_test = get_train_test_split(model_data_prepare(df_all))\n",
    "#X_train, X_test, y_train, y_test = get_train_test_split(model_data_prepare(df_all)\n",
    "clf = []\n",
    "score = 0\n",
    "best_score = 0\n",
    "for clf in Classifier:\n",
    "    name = clf.__class__.__name__\n",
    "    clf = clf.fit(X_train, y_train)\n",
    "    y_pred = clf.predict(X_test)\n",
    "    print('Result for ',name,':')\n",
    "#    print('training score:',clf.score(X_train,y_train))\n",
    "    score = clf.score(X_test,y_test)\n",
    "    print('test score:',score)\n",
    "    print(classification_report(y_test, y_pred,digits=4))\n",
    "    if score > best_score:\n",
    "        best_score = score\n",
    "        model = clf\n",
    "    \n",
    "\n",
    "\n",
    "#    accuracy: (tp + tn) / (p + n)\n",
    "#    accuracy = accuracy_score(y_test, y_pred)\n",
    "#    print('Accuracy: %f' % accuracy)\n",
    "#    precision tp / (tp + fp)\n",
    "#    precision = precision_score(y_test, y_pred)\n",
    "#    print('Precision: %f' % precision)\n",
    "#    recall: tp / (tp + fn)\n",
    "#    recall = recall_score(y_test, y_pred)\n",
    "#    print('Recall: %f' % recall)\n",
    "#    f1: 2 tp / (2 tp + fp + fn)\n",
    "#    f1 = f1_score(y_test, y_pred)\n",
    "#    print('F1 score: %f' % f1)"
   ]
  },
  {
   "cell_type": "code",
   "execution_count": 48,
   "metadata": {},
   "outputs": [],
   "source": [
    "def create_model(df_all):\n",
    "    '''\n",
    "    INPUT:\n",
    "    df_all - a dataframe that have most of starbucks mobile app customers data\n",
    "    \n",
    "    OUTPUT:\n",
    "    clf    - randomforestregressor model optimized through hyperparameters\n",
    "    \n",
    "    Description:\n",
    "    this function gets a full dataframe and split the data to train and test (y= result column)\n",
    "    and make the model ready and optimized through the hyperparameters\n",
    "    '''\n",
    "    pipeline = make_pipeline(preprocessing.StandardScaler(), \n",
    "                         KNeighborsClassifier(n_neighbors=3))\n",
    "    hyperparameters = { 'n_neighbors' : [1,3,5,10],\n",
    "                  'n_estimators=3': [None, 5, 3, 1]}\n",
    "\n",
    "    clf = GridSearchCV(pipeline, hyperparameters, cv=10)\n",
    "    \n",
    "    X_train, X_test, y_train, y_test = get_train_test_split(model_data_prepare(df_all))\n",
    "    # Fit and tune model\n",
    "    clf.fit(X_train, y_train)\n",
    "    print(clf.best_params_)\n",
    "    y_pred = clf.predict(X_test)\n",
    "    print(r2_score(y_test, y_pred))\n",
    "    print(mean_squared_error(y_test, y_pred))\n",
    "    print(classification_report(y_test, y_pred))\n",
    "    return clf"
   ]
  },
  {
   "cell_type": "code",
   "execution_count": 49,
   "metadata": {},
   "outputs": [
    {
     "data": {
      "text/plain": [
       "Index(['time', 'points', 'transaction_amount', 'offer completed',\n",
       "       'offer received', 'offer viewed', 'transaction', 'age', 'income',\n",
       "       'gender_F', 'gender_M', 'gender_O', 'difficulty', 'duration',\n",
       "       'reward_y', 'email', 'mobile', 'social', 'web', 'bogo', 'discount',\n",
       "       'informational', 'offer_1', 'offer_2', 'offer_3', 'offer_4', 'offer_5',\n",
       "       'offer_6', 'offer_7', 'offer_8', 'offer_9', 'offer_10'],\n",
       "      dtype='object')"
      ]
     },
     "execution_count": 49,
     "metadata": {},
     "output_type": "execute_result"
    }
   ],
   "source": [
    "df_all.columns"
   ]
  },
  {
   "cell_type": "code",
   "execution_count": 50,
   "metadata": {},
   "outputs": [],
   "source": [
    "def train_model_score(clf,X_train,y_train,y_test,hyperparameters=dict()):\n",
    "    \n",
    "    clf = GridSearchCV(clf, hyperparameters,scoring='f1', verbose=30,cv=2,n_jobs=10)\n",
    "    # Fit and tune model\n",
    "    clf.fit(X_train, y_train)\n",
    "    print(clf.best_params_)\n",
    "    y_pred = clf.predict(X_test)\n",
    "    print('score:',clf.score(X_test,y_test))\n",
    "    print(r2_score(y_test, y_pred))\n",
    "    print(mean_squared_error(y_test, y_pred))\n",
    "    print(classification_report(y_test, y_pred))\n",
    "\n",
    "    return clf\n",
    "    "
   ]
  },
  {
   "cell_type": "code",
   "execution_count": 51,
   "metadata": {},
   "outputs": [
    {
     "name": "stdout",
     "output_type": "stream",
     "text": [
      "(306534, 32)\n",
      "(282357, 32)\n",
      "(275298, 31)\n",
      "(7059, 31)\n",
      "Index(['time', 'points', 'transaction_amount', 'offer completed',\n",
      "       'offer received', 'offer viewed', 'transaction', 'age', 'income',\n",
      "       'gender_F', 'gender_M', 'gender_O', 'difficulty', 'duration',\n",
      "       'reward_y', 'email', 'mobile', 'social', 'web', 'discount',\n",
      "       'informational', 'offer_1', 'offer_2', 'offer_3', 'offer_4', 'offer_5',\n",
      "       'offer_6', 'offer_7', 'offer_8', 'offer_9', 'offer_10'],\n",
      "      dtype='object')\n",
      "dict_keys(['memory', 'steps', 'standardscaler', 'kneighborsclassifier', 'standardscaler__copy', 'standardscaler__with_mean', 'standardscaler__with_std', 'kneighborsclassifier__algorithm', 'kneighborsclassifier__leaf_size', 'kneighborsclassifier__metric', 'kneighborsclassifier__metric_params', 'kneighborsclassifier__n_jobs', 'kneighborsclassifier__n_neighbors', 'kneighborsclassifier__p', 'kneighborsclassifier__weights'])\n",
      "Fitting 2 folds for each of 4 candidates, totalling 8 fits\n",
      "[CV] kneighborsclassifier__leaf_size=1, kneighborsclassifier__n_neighbors=1 \n",
      "[CV] kneighborsclassifier__leaf_size=1, kneighborsclassifier__n_neighbors=1 \n",
      "[CV] kneighborsclassifier__leaf_size=1, kneighborsclassifier__n_neighbors=5 \n",
      "[CV] kneighborsclassifier__leaf_size=1, kneighborsclassifier__n_neighbors=5 \n",
      "[CV] kneighborsclassifier__leaf_size=10, kneighborsclassifier__n_neighbors=1 \n",
      "[CV] kneighborsclassifier__leaf_size=10, kneighborsclassifier__n_neighbors=1 \n",
      "[CV] kneighborsclassifier__leaf_size=10, kneighborsclassifier__n_neighbors=5 \n",
      "[CV] kneighborsclassifier__leaf_size=10, kneighborsclassifier__n_neighbors=5 \n",
      "[CV]  kneighborsclassifier__leaf_size=10, kneighborsclassifier__n_neighbors=1, score=1.0, total=30.9min\n"
     ]
    },
    {
     "name": "stderr",
     "output_type": "stream",
     "text": [
      "[Parallel(n_jobs=10)]: Done   1 tasks      | elapsed: 55.6min\n"
     ]
    },
    {
     "name": "stdout",
     "output_type": "stream",
     "text": [
      "[CV]  kneighborsclassifier__leaf_size=10, kneighborsclassifier__n_neighbors=1, score=1.0, total=32.1min\n"
     ]
    },
    {
     "name": "stderr",
     "output_type": "stream",
     "text": [
      "[Parallel(n_jobs=10)]: Done   2 out of   8 | elapsed: 57.8min remaining: 173.3min\n"
     ]
    },
    {
     "name": "stdout",
     "output_type": "stream",
     "text": [
      "[CV]  kneighborsclassifier__leaf_size=10, kneighborsclassifier__n_neighbors=5, score=1.0, total=37.1min\n"
     ]
    },
    {
     "name": "stderr",
     "output_type": "stream",
     "text": [
      "[Parallel(n_jobs=10)]: Done   3 out of   8 | elapsed: 66.7min remaining: 111.1min\n"
     ]
    },
    {
     "name": "stdout",
     "output_type": "stream",
     "text": [
      "[CV]  kneighborsclassifier__leaf_size=10, kneighborsclassifier__n_neighbors=5, score=1.0, total=37.4min\n"
     ]
    },
    {
     "name": "stderr",
     "output_type": "stream",
     "text": [
      "[Parallel(n_jobs=10)]: Done   4 out of   8 | elapsed: 67.1min remaining: 67.1min\n"
     ]
    },
    {
     "name": "stdout",
     "output_type": "stream",
     "text": [
      "[CV]  kneighborsclassifier__leaf_size=1, kneighborsclassifier__n_neighbors=1, score=1.0, total=39.9min\n"
     ]
    },
    {
     "name": "stderr",
     "output_type": "stream",
     "text": [
      "[Parallel(n_jobs=10)]: Done   5 out of   8 | elapsed: 67.7min remaining: 40.6min\n"
     ]
    },
    {
     "name": "stdout",
     "output_type": "stream",
     "text": [
      "[CV]  kneighborsclassifier__leaf_size=1, kneighborsclassifier__n_neighbors=1, score=1.0, total=41.3min\n"
     ]
    },
    {
     "name": "stderr",
     "output_type": "stream",
     "text": [
      "[Parallel(n_jobs=10)]: Done   6 out of   8 | elapsed: 68.8min remaining: 22.9min\n"
     ]
    },
    {
     "name": "stdout",
     "output_type": "stream",
     "text": [
      "[CV]  kneighborsclassifier__leaf_size=1, kneighborsclassifier__n_neighbors=5, score=1.0, total=50.2min\n",
      "[CV]  kneighborsclassifier__leaf_size=1, kneighborsclassifier__n_neighbors=5, score=1.0, total=51.1min\n"
     ]
    },
    {
     "name": "stderr",
     "output_type": "stream",
     "text": [
      "[Parallel(n_jobs=10)]: Done   8 out of   8 | elapsed: 74.3min remaining:    0.0s\n",
      "[Parallel(n_jobs=10)]: Done   8 out of   8 | elapsed: 74.3min finished\n"
     ]
    },
    {
     "name": "stdout",
     "output_type": "stream",
     "text": [
      "{'kneighborsclassifier__leaf_size': 1, 'kneighborsclassifier__n_neighbors': 1}\n",
      "score: 1.0\n",
      "1.0\n",
      "0.0\n",
      "             precision    recall  f1-score   support\n",
      "\n",
      "        0.0       1.00      1.00      1.00      5554\n",
      "        1.0       1.00      1.00      1.00      1505\n",
      "\n",
      "avg / total       1.00      1.00      1.00      7059\n",
      "\n"
     ]
    }
   ],
   "source": [
    "pipeline = make_pipeline(preprocessing.StandardScaler(), \n",
    "                         KNeighborsClassifier())\n",
    "hyperparameters = { 'kneighborsclassifier__n_neighbors' : [1,5],\n",
    "#                    'kneighborsclassifier__weights': ['uniform','distance'],\n",
    "                    'kneighborsclassifier__leaf_size': [1,10]\n",
    "                  }\n",
    "X_train, X_test, y_train, y_test = get_train_test_split(model_data_prepare(df_all))\n",
    "print(pipeline.get_params().keys())\n",
    "classifier = []\n",
    "clf = train_model_score(pipeline,X_train,y_train,y_test,hyperparameters)\n",
    "classifier.append(clf)"
   ]
  },
  {
   "cell_type": "code",
   "execution_count": 52,
   "metadata": {},
   "outputs": [],
   "source": [
    "#model = create_model(df_all)"
   ]
  },
  {
   "cell_type": "code",
   "execution_count": 53,
   "metadata": {},
   "outputs": [],
   "source": [
    "def get_new_person(df_all,index=''):\n",
    "    '''\n",
    "    INPUT:\n",
    "    df_all - a dataframe that have most of starbucks mobile app customers data\n",
    "    index  - a specific customer index \n",
    "    OUTPUT:\n",
    "    person    - random person that received an offer if no index was specified an exact person if the index was specified\n",
    "    \n",
    "    Description:\n",
    "    this function gets a full dataframe and return a random person that received an offer if index was empty, and return\n",
    "    the exact person if index was specified\n",
    "    '''\n",
    "    if index=='':\n",
    "        person = model_data_prepare(df_all[df_all['offer received']==1].sample(1),0)\n",
    "        print('person index is:',person.index.values)\n",
    "    else:\n",
    "        person = model_data_prepare(df_all[df_all.index==index],0)\n",
    "        print('person index is:',person.index.values)\n",
    "#    if (str(person.columns)).find('result')>=0:    \n",
    "#        person = person.drop('result',axis=1)\n",
    "    person = person.drop('bogo',axis=1)\n",
    "    return person"
   ]
  },
  {
   "cell_type": "code",
   "execution_count": 54,
   "metadata": {},
   "outputs": [],
   "source": [
    "def map_result(result):\n",
    "    '''\n",
    "    INPUT:\n",
    "    result - the result of the model 0 or 1\n",
    "    \n",
    "    OUTPUT:\n",
    "    \n",
    "    Description:\n",
    "    this function gets the result of the model prediction and print the corresponding text\n",
    "    '''\n",
    "    if result == 1:\n",
    "        print('model predict the person will respond to an offer!')\n",
    "    else:\n",
    "        print('model predict the person will not respond to an offer!!')\n",
    "    return"
   ]
  },
  {
   "cell_type": "code",
   "execution_count": 55,
   "metadata": {},
   "outputs": [],
   "source": [
    "def predict_offer(df_all,index='',col=''):\n",
    "    '''\n",
    "    INPUT:\n",
    "    df_all - a dataframe that have most of starbucks mobile app customers data\n",
    "    index  - a specific customer index \n",
    "    \n",
    "    OUTPUT:\n",
    "    \n",
    "    Description:\n",
    "    this function gets a full dataframe and make model prediction for that person, if no index was specified\n",
    "    it will pick a random customer through get_new_person make prediction and map the result through map_result\n",
    "    '''\n",
    "    if index=='':\n",
    "        if col =='':\n",
    "            map_result(model.predict(get_new_person(df_all)).drop(col,axis=1))\n",
    "        else:    \n",
    "            map_result(model.predict(get_new_person(df_all)))\n",
    "    else:\n",
    "        if col =='':\n",
    "            map_result(model.predict(get_new_person(df_all)).drop(col,axis=1))\n",
    "        else:\n",
    "            map_result(model.predict(get_new_person(df_all,index)))\n",
    "        \n",
    "    return\n",
    "    "
   ]
  },
  {
   "cell_type": "code",
   "execution_count": 56,
   "metadata": {},
   "outputs": [],
   "source": [
    "model = classifier[0]"
   ]
  },
  {
   "cell_type": "code",
   "execution_count": 57,
   "metadata": {},
   "outputs": [
    {
     "name": "stdout",
     "output_type": "stream",
     "text": [
      "person index is: [210517]\n",
      "model predict the person will not respond to an offer!!\n",
      "person index is: [12280]\n",
      "model predict the person will not respond to an offer!!\n",
      "person index is: [210930]\n",
      "model predict the person will respond to an offer!\n",
      "person index is: [121192]\n",
      "model predict the person will not respond to an offer!!\n",
      "person index is: [6903]\n",
      "model predict the person will respond to an offer!\n",
      "person index is: [256938]\n",
      "model predict the person will not respond to an offer!!\n",
      "person index is: [159149]\n",
      "model predict the person will not respond to an offer!!\n",
      "person index is: [255969]\n",
      "model predict the person will not respond to an offer!!\n",
      "person index is: [254064]\n",
      "model predict the person will not respond to an offer!!\n",
      "person index is: [122830]\n",
      "model predict the person will not respond to an offer!!\n",
      "person index is: [116804]\n",
      "model predict the person will not respond to an offer!!\n"
     ]
    },
    {
     "name": "stderr",
     "output_type": "stream",
     "text": [
      "/opt/conda/lib/python3.6/site-packages/pandas/core/frame.py:3790: SettingWithCopyWarning: \n",
      "A value is trying to be set on a copy of a slice from a DataFrame\n",
      "\n",
      "See the caveats in the documentation: http://pandas.pydata.org/pandas-docs/stable/indexing.html#indexing-view-versus-copy\n",
      "  downcast=downcast, **kwargs)\n"
     ]
    }
   ],
   "source": [
    "#test predict_offer function \n",
    "for i in range(10):\n",
    "    predict_offer(df_all,col='bogo')\n",
    "\n",
    "predict_offer(df_all,index=116804,col='bogo')"
   ]
  },
  {
   "cell_type": "code",
   "execution_count": null,
   "metadata": {},
   "outputs": [],
   "source": []
  }
 ],
 "metadata": {
  "kernelspec": {
   "display_name": "Python 3",
   "language": "python",
   "name": "python3"
  },
  "language_info": {
   "codemirror_mode": {
    "name": "ipython",
    "version": 3
   },
   "file_extension": ".py",
   "mimetype": "text/x-python",
   "name": "python",
   "nbconvert_exporter": "python",
   "pygments_lexer": "ipython3",
   "version": "3.6.3"
  }
 },
 "nbformat": 4,
 "nbformat_minor": 2
}
